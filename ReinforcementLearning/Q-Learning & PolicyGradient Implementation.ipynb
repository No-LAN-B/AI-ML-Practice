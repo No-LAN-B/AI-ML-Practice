{
 "cells": [
  {
   "metadata": {},
   "cell_type": "code",
   "outputs": [],
   "execution_count": 1,
   "source": [
    "import numpy as np\n",
    "\n",
    "# Define the grid size and actions\n",
    "grid_size = 5\n",
    "n_actions = 4  # Actions: up, down, left, right\n",
    "\n",
    "# Initialize the Q-table with zeros\n",
    "Q_table = np.zeros((grid_size * grid_size, n_actions))"
   ],
   "id": "initial_id"
  },
  {
   "metadata": {
    "ExecuteTime": {
     "end_time": "2025-06-13T08:21:31.729341Z",
     "start_time": "2025-06-13T08:21:31.714773Z"
    }
   },
   "cell_type": "code",
   "source": [
    "alpha = 0.1  # Learning rate\n",
    "gamma = 0.9  # Discount factor for future rewards\n",
    "epsilon = 0.1  # Exploration rate for epsilon-greedy policy"
   ],
   "id": "c4300988db920ba",
   "outputs": [],
   "execution_count": 2
  },
  {
   "metadata": {
    "ExecuteTime": {
     "end_time": "2025-06-13T08:22:14.580752Z",
     "start_time": "2025-06-13T08:22:14.567158Z"
    }
   },
   "cell_type": "code",
   "source": [
    "# Reward matrix for the grid environment\n",
    "rewards = np.full((grid_size * grid_size,), -1)  # -1 for every state\n",
    "rewards[24] = 10  # Goal state\n",
    "rewards[12] = -10  # Pitfall state"
   ],
   "id": "2d109d64dda1793c",
   "outputs": [],
   "execution_count": 3
  },
  {
   "metadata": {
    "ExecuteTime": {
     "end_time": "2025-06-13T08:22:41.457104Z",
     "start_time": "2025-06-13T08:22:41.443508Z"
    }
   },
   "cell_type": "code",
   "source": [
    "# Implement the epsilon-greedy action selection\n",
    "def epsilon_greedy_action(Q_table, state, epsilon):\n",
    "    if np.random.uniform(0, 1) < epsilon:\n",
    "        return np.random.randint(0, n_actions)  # Explore: random action\n",
    "    else:\n",
    "        return np.argmax(Q_table[state])  # Exploit: action with highest Q-value"
   ],
   "id": "b7a8ccb046787d4a",
   "outputs": [],
   "execution_count": 5
  },
  {
   "metadata": {
    "ExecuteTime": {
     "end_time": "2025-06-13T08:31:39.525781Z",
     "start_time": "2025-06-13T08:31:39.370514Z"
    }
   },
   "cell_type": "code",
   "source": [
    "# Update the Q-values with the Bellman Equation\n",
    "for episode in range(1000):\n",
    "    state = np.random.randint(0, grid_size * grid_size)  # Start in a random state\n",
    "    total_reward = 0   # <-- CHANGED: reset total reward at episode start\n",
    "\n",
    "    done = False\n",
    "    while not done:\n",
    "        action = epsilon_greedy_action(Q_table, state, epsilon)\n",
    "        next_state = np.random.randint(0, grid_size * grid_size)  # Simulated next state\n",
    "        reward = rewards[next_state]\n",
    "\n",
    "        total_reward += reward  # <-- CHANGED: accumulate step reward\n",
    "\n",
    "        # Update Q-value using Bellman equation\n",
    "        Q_table[state, action] = (\n",
    "            Q_table[state, action]\n",
    "            + alpha * (reward + gamma * np.max(Q_table[next_state]) - Q_table[state, action])\n",
    "        )\n",
    "\n",
    "        state = next_state\n",
    "        if next_state == 24 or next_state == 12:\n",
    "            done = True\n",
    "\n",
    "    rewards_q_learning.append(total_reward)  # <-- CHANGED: record total reward after episode"
   ],
   "id": "4f06e877a8a9ad",
   "outputs": [],
   "execution_count": 14
  },
  {
   "metadata": {
    "ExecuteTime": {
     "end_time": "2025-06-13T08:24:40.215776Z",
     "start_time": "2025-06-13T08:24:37.563093Z"
    }
   },
   "cell_type": "code",
   "source": [
    "import tensorflow as tf\n",
    "\n",
    "# Define the policy network\n",
    "n_states = grid_size * grid_size  # Number of states in the grid\n",
    "n_actions = 4  # Up, down, left, right\n",
    "\n",
    "model = tf.keras.Sequential([\n",
    "    tf.keras.layers.Dense(24, activation='relu', input_shape=(n_states,)),\n",
    "    tf.keras.layers.Dense(n_actions, activation='softmax')  # Output action probabilities\n",
    "])\n",
    "\n",
    "# Optimizer for policy network updates\n",
    "optimizer = tf.keras.optimizers.Adam(learning_rate=0.01)"
   ],
   "id": "83ccdebebc3f3e33",
   "outputs": [
    {
     "name": "stderr",
     "output_type": "stream",
     "text": [
      "C:\\Users\\Spyqi\\PycharmProjects\\Azure-ML-Practice\\ReinforcementLearning\\.venv\\lib\\site-packages\\keras\\src\\layers\\core\\dense.py:93: UserWarning: Do not pass an `input_shape`/`input_dim` argument to a layer. When using Sequential models, prefer using an `Input(shape)` object as the first layer in the model instead.\n",
      "  super().__init__(activity_regularizer=activity_regularizer, **kwargs)\n"
     ]
    }
   ],
   "execution_count": 7
  },
  {
   "metadata": {
    "ExecuteTime": {
     "end_time": "2025-06-13T08:32:09.886457Z",
     "start_time": "2025-06-13T08:32:09.873834Z"
    }
   },
   "cell_type": "code",
   "source": [
    "# Tracking cumulative rewards for policy gradients plotting\n",
    "rewards_policy_gradients = []    # <-- CHANGED: initialize list for per-episode rewards"
   ],
   "id": "5be1c17a893c7d3e",
   "outputs": [],
   "execution_count": 15
  },
  {
   "metadata": {
    "ExecuteTime": {
     "end_time": "2025-06-13T08:25:15.450337Z",
     "start_time": "2025-06-13T08:25:15.437263Z"
    }
   },
   "cell_type": "code",
   "source": [
    "def get_action(state):\n",
    "    state_input = tf.one_hot(state, n_states)  # One-hot encoding for state\n",
    "    action_probs = model(state_input[np.newaxis, :])\n",
    "    return np.random.choice(n_actions, p=action_probs.numpy()[0])"
   ],
   "id": "f1a3be953d234a19",
   "outputs": [],
   "execution_count": 8
  },
  {
   "metadata": {
    "ExecuteTime": {
     "end_time": "2025-06-13T08:34:34.530918Z",
     "start_time": "2025-06-13T08:34:34.516788Z"
    }
   },
   "cell_type": "code",
   "source": [
    "def update_policy(states, actions, rewards):\n",
    "    cumulative_rewards = compute_cumulative_rewards(rewards)\n",
    "\n",
    "    with tf.GradientTape() as tape:\n",
    "        state_inputs = tf.one_hot(states, n_states)  # Convert states to one-hot encoding\n",
    "        action_probs = model(state_inputs)\n",
    "        action_masks = tf.one_hot(actions, n_actions)  # Mask for selected actions\n",
    "        log_probs = tf.reduce_sum(action_masks * tf.math.log(action_probs), axis=1)\n",
    "\n",
    "        # Policy loss is the negative log-probability of the action times the cumulative reward\n",
    "        loss = -tf.reduce_mean(log_probs * cumulative_rewards)\n",
    "\n",
    "    # Apply gradients to update the policy network\n",
    "    grads = tape.gradient(loss, model.trainable_variables)\n",
    "    optimizer.apply_gradients(zip(grads, model.trainable_variables))"
   ],
   "id": "47a94b67c754a305",
   "outputs": [],
   "execution_count": 17
  },
  {
   "metadata": {
    "ExecuteTime": {
     "end_time": "2025-06-13T08:35:12.421477Z",
     "start_time": "2025-06-13T08:34:34.547101Z"
    }
   },
   "cell_type": "code",
   "source": [
    "# Simulation loop\n",
    "states = []\n",
    "actions = []\n",
    "episode_rewards = []\n",
    "\n",
    "for episode in range(1000):\n",
    "    state = np.random.randint(0, n_states)  # Start in a random state\n",
    "    done = False\n",
    "    while not done:\n",
    "        action = get_action(state)  # Use the provided function\n",
    "        next_state = np.random.randint(0, n_states)  # Simulated next state\n",
    "        reward = rewards[next_state]\n",
    "\n",
    "        # Store the state-action-reward trajectory\n",
    "        states.append(state)\n",
    "        actions.append(action)\n",
    "        episode_rewards.append(reward)\n",
    "\n",
    "        state = next_state\n",
    "        if next_state in {24, 12}:\n",
    "            done = True\n",
    "    # Update policy network after collecting trajectory\n",
    "    update_policy(states, actions, episode_rewards)\n",
    "\n",
    "    # Record the sum of this episode's rewards for plotting\n",
    "    rewards_policy_gradients.append(sum(episode_rewards))  # <-- CHANGED: append cumulative reward\n",
    "\n",
    "    # Clear trajectory data for next episode\n",
    "    states, actions, episode_rewards = [], [], []"
   ],
   "id": "498ad090bc12eff2",
   "outputs": [],
   "execution_count": 18
  },
  {
   "metadata": {
    "ExecuteTime": {
     "end_time": "2025-06-13T08:35:12.452714Z",
     "start_time": "2025-06-13T08:35:12.437644Z"
    }
   },
   "cell_type": "code",
   "source": [
    "def compute_cumulative_rewards(rewards, gamma=0.99):\n",
    "    cumulative_rewards = np.zeros_like(rewards)\n",
    "    running_add = 0\n",
    "    for t in reversed(range(len(rewards))):\n",
    "        running_add = running_add * gamma + rewards[t]\n",
    "        cumulative_rewards[t] = running_add\n",
    "    return cumulative_rewards"
   ],
   "id": "170e42002ed4f502",
   "outputs": [],
   "execution_count": 19
  },
  {
   "metadata": {
    "ExecuteTime": {
     "end_time": "2025-06-13T08:35:12.731904Z",
     "start_time": "2025-06-13T08:35:12.610533Z"
    }
   },
   "cell_type": "code",
   "source": [
    "import matplotlib.pyplot as plt\n",
    "\n",
    "# Example code to visualize rewards over episodes\n",
    "plt.plot(rewards_q_learning, label='Q-Learning')\n",
    "plt.plot(rewards_policy_gradients, label='Policy Gradients')\n",
    "plt.xlabel('Episodes')\n",
    "plt.ylabel('Cumulative Rewards')\n",
    "plt.legend()\n",
    "plt.show()"
   ],
   "id": "59112d47f4c14e66",
   "outputs": [
    {
     "data": {
      "text/plain": [
       "<Figure size 640x480 with 1 Axes>"
      ],
      "image/png": "[encoded data removed]"
     },
     "metadata": {},
     "output_type": "display_data"
    }
   ],
   "execution_count": 21
  },
  {
   "metadata": {},
   "cell_type": "code",
   "outputs": [],
   "execution_count": null,
   "source": "",
   "id": "653da63ed33c78fb"
  }
 ],
 "metadata": {
  "kernelspec": {
   "display_name": "Python 3",
   "language": "python",
   "name": "python3"
  },
  "language_info": {
   "codemirror_mode": {
    "name": "ipython",
    "version": 2
   },
   "file_extension": ".py",
   "mimetype": "text/x-python",
   "name": "python",
   "nbconvert_exporter": "python",
   "pygments_lexer": "ipython2",
   "version": "2.7.6"
  }
 },
 "nbformat": 4,
 "nbformat_minor": 5
}
