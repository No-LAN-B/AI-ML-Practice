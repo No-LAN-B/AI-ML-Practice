{
 "cells": [
  {
   "cell_type": "code",
   "id": "initial_id",
   "metadata": {
    "collapsed": true,
    "ExecuteTime": {
     "end_time": "2025-06-13T08:12:12.364650200Z",
     "start_time": "2025-06-13T08:11:19.260079Z"
    }
   },
   "source": [
    "import numpy as np\n",
    "import tensorflow as tf\n",
    "# ===== Q-Learning Example =====\n",
    "# Define the environment (simple example)\n",
    "n_states = 5  # Number of states\n",
    "n_actions = 2  # Number of possible actions\n",
    "\n",
    "# Initialize the Q-table with zeros\n",
    "Q = np.zeros((n_states, n_actions))\n",
    "\n",
    "# Set hyperparameters\n",
    "alpha = 0.1  # Learning rate\n",
    "gamma = 0.9  # Discount factor\n",
    "epsilon = 0.1  # Exploration rate\n",
    "\n",
    "# Example learning loop\n",
    "for episode in range(1000):\n",
    "    state = np.random.randint(0, n_states)  # Random starting state\n",
    "\n",
    "    done = False\n",
    "    steps = 0  # Add a step counter to avoid infinite loops\n",
    "    while not done and steps < 100:  # Limit the number of steps per episode\n",
    "        # Choose an action using epsilon-greedy strategy\n",
    "        if np.random.uniform(0, 1) < epsilon:\n",
    "            action = np.random.randint(0, n_actions)  # Explore\n",
    "        else:\n",
    "            action = np.argmax(Q[state, :])  # Exploit known Q-values\n",
    "\n",
    "        # Simulate action and observe reward and next state\n",
    "        next_state = np.random.randint(0, n_states)  # Random next state\n",
    "        reward = np.random.uniform(-1, 1)  # Random reward\n",
    "\n",
    "        # Update Q-value using Bellman equation\n",
    "        Q[state, action] = Q[state, action] + alpha * (reward + gamma * np.max(Q[next_state, :]) - Q[state, action])\n",
    "\n",
    "        state = next_state  # Move to the next state\n",
    "        steps += 1  # Increment step counter\n",
    "\n",
    "        # Example condition to end the episode\n",
    "        if steps >= 100:  # End episode after 100 steps\n",
    "            done = True\n",
    "\n"
   ],
   "outputs": [],
   "execution_count": 4
  },
  {
   "metadata": {
    "ExecuteTime": {
     "end_time": "2025-06-13T08:12:50.459730Z",
     "start_time": "2025-06-13T08:12:19.570141Z"
    }
   },
   "cell_type": "code",
   "source": [
    "# ===== Policy-Gradient REINFORCE Example =====\n",
    "# Define the policy network (simple neural network)\n",
    "n_states = 4  # Example: 4 input features\n",
    "n_actions = 2  # Example: 2 possible actions\n",
    "\n",
    "# Build the policy model with explicit Input layer\n",
    "model = tf.keras.Sequential([\n",
    "    tf.keras.Input(shape=(n_states,)),    # added explicit Input declaration\n",
    "    tf.keras.layers.Dense(24, activation='relu'),\n",
    "    tf.keras.layers.Dense(n_actions, activation='softmax')\n",
    "])\n",
    "\n",
    "optimizer = tf.keras.optimizers.Adam(learning_rate=0.01)\n",
    "\n",
    "# Function to sample an action based on policy distribution\n",
    "def get_action(state):\n",
    "    action_probs = model(state[np.newaxis, :])\n",
    "    return np.random.choice(n_actions, p=action_probs.numpy()[0])\n",
    "\n",
    "# Placeholder for rewards and actions\n",
    "states = []\n",
    "actions = []\n",
    "rewards = []\n",
    "\n",
    "# Example learning loop\n",
    "for episode in range(1000):\n",
    "    state = np.random.rand(n_states)  # Example random state\n",
    "\n",
    "    done = False\n",
    "    while not done:\n",
    "        # Sample an action from the policy\n",
    "        action = get_action(state)\n",
    "        next_state = np.random.rand(n_states)  # Simulate next state\n",
    "        reward = np.random.uniform(-1, 1)  # Simulate reward\n",
    "\n",
    "        # Store trajectory\n",
    "        states.append(state)\n",
    "        actions.append(action)\n",
    "        rewards.append(reward)\n",
    "\n",
    "        state = next_state\n",
    "\n",
    "        # Break when a stopping condition is met (random here for simplicity)\n",
    "        if np.random.rand() < 0.1:\n",
    "            break\n",
    "\n",
    "    # Compute cumulative rewards\n",
    "    cumulative_rewards = np.zeros_like(rewards)\n",
    "    for t in reversed(range(len(rewards))):\n",
    "        cumulative_rewards[t] = (\n",
    "            rewards[t] + (0.9 * cumulative_rewards[t+1] if t+1 < len(rewards) else 0)\n",
    "        )\n",
    "\n",
    "    # Update policy using the REINFORCE algorithm\n",
    "    with tf.GradientTape() as tape:\n",
    "        action_probs = model(np.array(states, dtype=np.float32))\n",
    "        action_masks = tf.one_hot(actions, n_actions)\n",
    "        log_probs = tf.reduce_sum(action_masks * tf.math.log(action_probs), axis=1)\n",
    "        loss = -tf.reduce_mean(log_probs * cumulative_rewards)\n",
    "\n",
    "    grads = tape.gradient(loss, model.trainable_variables)\n",
    "    optimizer.apply_gradients(zip(grads, model.trainable_variables))\n",
    "\n",
    "    # Clear trajectory for next episode\n",
    "    states, actions, rewards = [], [], []\n"
   ],
   "id": "63fa1eb9dfe63952",
   "outputs": [],
   "execution_count": 7
  },
  {
   "metadata": {
    "ExecuteTime": {
     "end_time": "2025-06-13T08:14:20.027823Z",
     "start_time": "2025-06-13T08:14:20.014630Z"
    }
   },
   "cell_type": "code",
   "source": "# Q Learning uses value based methods to estimate the Q values of state action pairs and is effective for discrete action spaces. Often employing the Epsilon greedy strategy for exploration.",
   "id": "f53d39692f06c113",
   "outputs": [],
   "execution_count": 9
  },
  {
   "metadata": {
    "ExecuteTime": {
     "end_time": "2025-06-13T08:14:36.658140Z",
     "start_time": "2025-06-13T08:14:36.644455Z"
    }
   },
   "cell_type": "code",
   "source": "# In contrast, policy gradient directly learns the policy mapping states to actions, making it suitable for continuous or high dimensional action spaces and uses gradient descent to optimize the policy.",
   "id": "39ed78afd6f48fbc",
   "outputs": [],
   "execution_count": 10
  },
  {
   "metadata": {
    "ExecuteTime": {
     "end_time": "2025-06-13T08:15:57.723161Z",
     "start_time": "2025-06-13T08:15:57.709513Z"
    }
   },
   "cell_type": "code",
   "source": "# Q learning is typically used for simpler environments with discrete actions, while policy gradients are better suited for more complex tasks with continuous actions, such as robotics.",
   "id": "5bf941fd6b56a56c",
   "outputs": [],
   "execution_count": 13
  },
  {
   "metadata": {
    "ExecuteTime": {
     "end_time": "2025-06-13T08:15:58.574373Z",
     "start_time": "2025-06-13T08:15:58.561744Z"
    }
   },
   "cell_type": "code",
   "source": "# Q learning efficiently learns the best action by updating its action value function, its queue function, through rewards obtained from the environment.",
   "id": "7516ddab1df9e13b",
   "outputs": [],
   "execution_count": 14
  },
  {
   "metadata": {
    "ExecuteTime": {
     "end_time": "2025-06-13T08:16:14.617942Z",
     "start_time": "2025-06-13T08:16:14.604329Z"
    }
   },
   "cell_type": "code",
   "source": "#  In contrast, policy gradients are more appropriate for environments with continuous action spaces, such as controlling a robotic arm, where actions involve fine, continuous adjustments like varying joint angles. This approach is advantageous in environments where randomness and exploration are essential for finding optimal solutions.",
   "id": "44907c92ace3a02",
   "outputs": [],
   "execution_count": 15
  },
  {
   "metadata": {
    "ExecuteTime": {
     "end_time": "2025-06-13T08:16:39.851100Z",
     "start_time": "2025-06-13T08:16:39.838540Z"
    }
   },
   "cell_type": "code",
   "source": "# Use Q learning when the action space is small and discrete. You need a straightforward approach to estimate state action values. The environment is less complex and can be modeled with a Q table.",
   "id": "f34a651cbf1c1538",
   "outputs": [],
   "execution_count": 16
  },
  {
   "metadata": {
    "ExecuteTime": {
     "end_time": "2025-06-13T08:16:49.626606Z",
     "start_time": "2025-06-13T08:16:49.613986Z"
    }
   },
   "cell_type": "code",
   "source": "# Use policy gradients when the action space is large or continuous. You need a more flexible approach that can handle complex policies. You are working with high dimensional environments, like video games or robotics.",
   "id": "138512ab7b28862f",
   "outputs": [],
   "execution_count": 17
  },
  {
   "metadata": {},
   "cell_type": "code",
   "outputs": [],
   "execution_count": null,
   "source": "",
   "id": "1aa8ee30bbf3ce6a"
  }
 ],
 "metadata": {
  "kernelspec": {
   "display_name": "Python 3",
   "language": "python",
   "name": "python3"
  },
  "language_info": {
   "codemirror_mode": {
    "name": "ipython",
    "version": 2
   },
   "file_extension": ".py",
   "mimetype": "text/x-python",
   "name": "python",
   "nbconvert_exporter": "python",
   "pygments_lexer": "ipython2",
   "version": "2.7.6"
  }
 },
 "nbformat": 4,
 "nbformat_minor": 5
}
