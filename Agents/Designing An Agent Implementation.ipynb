{
 "cells": [
  {
   "cell_type": "code",
   "id": "initial_id",
   "metadata": {
    "collapsed": true,
    "ExecuteTime": {
     "end_time": "2025-07-03T20:36:33.643612Z",
     "start_time": "2025-07-03T20:36:33.631575Z"
    }
   },
   "source": [
    "# Sample Knowledge Base for Network Troubleshooting\n",
    "knowledge_base = {\n",
    "\"restart_router\": \"Please restart your router and check if the problem persists.\",\n",
    "\"reset_network_settings\": \"Try resetting your network settings. Instructions are available in your system settings under 'Network Reset'.\",\n",
    "\"check_cables\": \"Ensure all network cables are securely connected.\",\n",
    "\"isp_contact\": \"If the issue continues, please contact your Internet Service Provider (ISP) for further assistance.\",\n",
    "\"clear_cache\": \"Clearing your browser cache can sometimes resolve connectivity issues.\"\n",
    "}\n",
    "\n",
    "def diagnose_network_issue():\n",
    "    print(\"Let's diagnose your network issue.\")"
   ],
   "outputs": [],
   "execution_count": 2
  },
  {
   "metadata": {
    "ExecuteTime": {
     "end_time": "2025-07-03T20:38:10.085934Z",
     "start_time": "2025-07-03T20:38:07.310632Z"
    }
   },
   "cell_type": "code",
   "source": [
    "response = input(\"Have you tried restarting your router? (Yes/No): \").strip().lower()\n",
    "if response == \"no\":\n",
    "    print(knowledge_base[\"restart_router\"])\n",
    "#Exit after suggesting a solution"
   ],
   "id": "d305f6745dcaae20",
   "outputs": [
    {
     "name": "stdout",
     "output_type": "stream",
     "text": [
      "Please restart your router and check if the problem persists.\n"
     ]
    }
   ],
   "execution_count": 8
  },
  {
   "metadata": {
    "ExecuteTime": {
     "end_time": "2025-07-03T20:38:40.637556Z",
     "start_time": "2025-07-03T20:38:37.322755Z"
    }
   },
   "cell_type": "code",
   "source": [
    "response = input(\"Are all cables securely connected? (Yes/No): \").strip().lower()\n",
    "if response == \"no\":\n",
    "    print(knowledge_base[\"check_cables\"])\n",
    "# Exit after suggesting a solution"
   ],
   "id": "b0713293987fc873",
   "outputs": [
    {
     "name": "stdout",
     "output_type": "stream",
     "text": [
      "Ensure all network cables are securely connected.\n"
     ]
    }
   ],
   "execution_count": 9
  },
  {
   "metadata": {
    "ExecuteTime": {
     "end_time": "2025-07-03T20:38:55.281140Z",
     "start_time": "2025-07-03T20:38:51.872537Z"
    }
   },
   "cell_type": "code",
   "source": [
    "response = input(\"Would you like to try resetting your network settings? (Yes/No): \").strip().lower()\n",
    "if response == \"yes\":\n",
    "    print(knowledge_base[\"reset_network_settings\"])\n",
    "# Exit after suggesting a solution"
   ],
   "id": "8d3f0dc26f6981c2",
   "outputs": [
    {
     "name": "stdout",
     "output_type": "stream",
     "text": [
      "Try resetting your network settings. Instructions are available in your system settings under 'Network Reset'.\n"
     ]
    }
   ],
   "execution_count": 10
  },
  {
   "metadata": {
    "ExecuteTime": {
     "end_time": "2025-07-03T20:39:18.471417Z",
     "start_time": "2025-07-03T20:39:12.516798Z"
    }
   },
   "cell_type": "code",
   "source": [
    "response = input(\"Is this issue occurring in your browser? (Yes/No): \").strip().lower()\n",
    "if response == \"yes\":\n",
    "    print(knowledge_base[\"clear_cache\"])\n",
    "else:\n",
    "    print(knowledge_base[\"isp_contact\"])\n",
    "\n",
    "# Example of triggering diagnostic logic based on user input\n",
    "user_input = input(\"Please describe your issue: \").strip().lower()\n",
    "if \"network\" in user_input:\n",
    "    diagnose_network_issue()"
   ],
   "id": "9cf27b7b80cb6bdf",
   "outputs": [
    {
     "name": "stdout",
     "output_type": "stream",
     "text": [
      "Clearing your browser cache can sometimes resolve connectivity issues.\n"
     ]
    }
   ],
   "execution_count": 11
  },
  {
   "metadata": {
    "ExecuteTime": {
     "end_time": "2025-07-03T20:40:01.185072Z",
     "start_time": "2025-07-03T20:40:01.171966Z"
    }
   },
   "cell_type": "code",
   "source": [
    "def automate_fix(issue):\n",
    "    if issue == \"network_issue\":\n",
    "        print(\"Attempting to reset your network settings automatically...\")\n",
    "        # Simulate network reset\n",
    "        print(\"Network settings have been reset. Please check your connection.\")\n",
    "    else:\n",
    "        print(\"Automatic fix is not available for this issue.\")\n",
    "\n",
    "# Simulate automated fix\n",
    "if \"network\" in user_input.lower():\n",
    "    automate_fix(\"network_issue\")"
   ],
   "id": "b15287be188874a5",
   "outputs": [],
   "execution_count": 12
  },
  {
   "metadata": {},
   "cell_type": "code",
   "outputs": [],
   "execution_count": null,
   "source": "",
   "id": "cbbac0c2cb64f719"
  }
 ],
 "metadata": {
  "kernelspec": {
   "display_name": "Python 3",
   "language": "python",
   "name": "python3"
  },
  "language_info": {
   "codemirror_mode": {
    "name": "ipython",
    "version": 2
   },
   "file_extension": ".py",
   "mimetype": "text/x-python",
   "name": "python",
   "nbconvert_exporter": "python",
   "pygments_lexer": "ipython2",
   "version": "2.7.6"
  }
 },
 "nbformat": 4,
 "nbformat_minor": 5
}
