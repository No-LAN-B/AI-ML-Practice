{
 "cells": [
  {
   "cell_type": "code",
   "id": "initial_id",
   "metadata": {
    "collapsed": true,
    "ExecuteTime": {
     "end_time": "2025-07-11T00:54:36.050920Z",
     "start_time": "2025-07-11T00:54:35.569856Z"
    }
   },
   "source": [
    "import pandas as pd\n",
    "import numpy as np\n",
    "\n",
    "# Set random seed for reproducibility\n",
    "np.random.seed(42)\n",
    "\n",
    "# Generate synthetic data\n",
    "n_samples = 1000\n",
    "data = {\n",
    "    'timestamp': pd.date_range(start='2024-01-01', periods=n_samples, freq='h'),\n",
    "    'cpu_usage': np.random.normal(50, 10, n_samples),       # CPU usage in percentage\n",
    "    'memory_usage': np.random.normal(60, 15, n_samples),    # Memory usage in percentage\n",
    "    'network_latency': np.random.normal(100, 20, n_samples), # Network latency in ms\n",
    "    'disk_io': np.random.normal(75, 10, n_samples),         # Disk I/O in MB/s\n",
    "    'error_rate': np.random.choice([0, 1], n_samples, p=[0.95, 0.05])  # 5% error rate\n",
    "}\n",
    "\n",
    "# Create DataFrame\n",
    "df = pd.DataFrame(data)\n",
    "\n",
    "# Display the first few rows of the dataset\n",
    "print(df.head())\n",
    "print(df.info())"
   ],
   "outputs": [
    {
     "name": "stdout",
     "output_type": "stream",
     "text": [
      "            timestamp  cpu_usage  memory_usage  network_latency    disk_io  \\\n",
      "0 2024-01-01 00:00:00  54.967142     80.990332        86.496435  55.921924   \n",
      "1 2024-01-01 01:00:00  48.617357     73.869505        97.109627  66.396150   \n",
      "2 2024-01-01 02:00:00  56.476885     60.894456        84.151602  70.863945   \n",
      "3 2024-01-01 03:00:00  65.230299     50.295948        93.840769  93.876877   \n",
      "4 2024-01-01 04:00:00  47.658466     70.473350        62.127707  80.565531   \n",
      "\n",
      "   error_rate  \n",
      "0           0  \n",
      "1           0  \n",
      "2           1  \n",
      "3           0  \n",
      "4           0  \n",
      "<class 'pandas.core.frame.DataFrame'>\n",
      "RangeIndex: 1000 entries, 0 to 999\n",
      "Data columns (total 6 columns):\n",
      " #   Column           Non-Null Count  Dtype         \n",
      "---  ------           --------------  -----         \n",
      " 0   timestamp        1000 non-null   datetime64[ns]\n",
      " 1   cpu_usage        1000 non-null   float64       \n",
      " 2   memory_usage     1000 non-null   float64       \n",
      " 3   network_latency  1000 non-null   float64       \n",
      " 4   disk_io          1000 non-null   float64       \n",
      " 5   error_rate       1000 non-null   int64         \n",
      "dtypes: datetime64[ns](1), float64(4), int64(1)\n",
      "memory usage: 47.0 KB\n",
      "None\n"
     ]
    }
   ],
   "execution_count": 1
  },
  {
   "metadata": {
    "ExecuteTime": {
     "end_time": "2025-07-11T00:54:48.516115Z",
     "start_time": "2025-07-11T00:54:47.429567Z"
    }
   },
   "cell_type": "code",
   "source": [
    "from sklearn.ensemble import IsolationForest\n",
    "\n",
    "# Implement anomaly detection using Isolation Forest\n",
    "def detect_anomalies(data):\n",
    "    model = IsolationForest(contamination=0.05, random_state=42)\n",
    "    model.fit(data)\n",
    "    anomalies = model.predict(data)\n",
    "    return anomalies\n",
    "\n",
    "# Detect anomalies in the dataset\n",
    "numeric_data = df.select_dtypes(include=[float, int]) # Only numeric columns\n",
    "df['anomaly'] = detect_anomalies(numeric_data)\n",
    "\n",
    "print(df['anomaly'].value_counts()) # -1 denotes an anomaly"
   ],
   "id": "d86f4ec270865bfe",
   "outputs": [
    {
     "name": "stdout",
     "output_type": "stream",
     "text": [
      "anomaly\n",
      " 1    950\n",
      "-1     50\n",
      "Name: count, dtype: int64\n"
     ]
    }
   ],
   "execution_count": 2
  },
  {
   "metadata": {
    "ExecuteTime": {
     "end_time": "2025-07-11T00:54:54.242056Z",
     "start_time": "2025-07-11T00:54:54.212908Z"
    }
   },
   "cell_type": "code",
   "source": [
    "from scipy.stats import zscore\n",
    "\n",
    "# Calculate z-scores to identify anomalous values per column in anomalous rows\n",
    "z_scores = numeric_data.apply(zscore)\n",
    "\n",
    "# Function to identify anomalous columns for each row\n",
    "def find_anomalous_columns(row, threshold=3):\n",
    "    return [col for col in numeric_data.columns if abs(z_scores.loc[row.name, col]) > threshold]\n",
    "\n",
    "# Apply the function to each anomalous row\n",
    "df['anomalous_columns'] = df.apply(lambda row: find_anomalous_columns(row) if row['anomaly'] == -1 else [], axis=1)\n",
    "\n",
    "# Display rows with anomalies and their anomalous columns\n",
    "print(df[df['anomaly'] == -1][['timestamp', 'anomaly', 'anomalous_columns']])"
   ],
   "id": "57837228722944ae",
   "outputs": [
    {
     "name": "stdout",
     "output_type": "stream",
     "text": [
      "              timestamp  anomaly              anomalous_columns\n",
      "37  2024-01-02 13:00:00       -1                   [error_rate]\n",
      "38  2024-01-02 14:00:00       -1                   [error_rate]\n",
      "62  2024-01-03 14:00:00       -1                   [error_rate]\n",
      "132 2024-01-06 12:00:00       -1                   [error_rate]\n",
      "179 2024-01-08 11:00:00       -1                   [error_rate]\n",
      "192 2024-01-09 00:00:00       -1                   [error_rate]\n",
      "208 2024-01-09 16:00:00       -1                   [error_rate]\n",
      "241 2024-01-11 01:00:00       -1                   [error_rate]\n",
      "245 2024-01-11 05:00:00       -1                   [error_rate]\n",
      "251 2024-01-11 11:00:00       -1                   [error_rate]\n",
      "262 2024-01-11 22:00:00       -1        [cpu_usage, error_rate]\n",
      "272 2024-01-12 08:00:00       -1                   [error_rate]\n",
      "285 2024-01-12 21:00:00       -1                   [error_rate]\n",
      "315 2024-01-14 03:00:00       -1                   [error_rate]\n",
      "329 2024-01-14 17:00:00       -1                   [error_rate]\n",
      "330 2024-01-14 18:00:00       -1                   [error_rate]\n",
      "334 2024-01-14 22:00:00       -1                   [error_rate]\n",
      "350 2024-01-15 14:00:00       -1                   [error_rate]\n",
      "354 2024-01-15 18:00:00       -1                   [error_rate]\n",
      "371 2024-01-16 11:00:00       -1                   [error_rate]\n",
      "386 2024-01-17 02:00:00       -1                   [error_rate]\n",
      "387 2024-01-17 03:00:00       -1                   [error_rate]\n",
      "413 2024-01-18 05:00:00       -1                   [error_rate]\n",
      "471 2024-01-20 15:00:00       -1                             []\n",
      "489 2024-01-21 09:00:00       -1                   [error_rate]\n",
      "498 2024-01-21 18:00:00       -1                   [error_rate]\n",
      "505 2024-01-22 01:00:00       -1                   [error_rate]\n",
      "521 2024-01-22 17:00:00       -1  [network_latency, error_rate]\n",
      "544 2024-01-23 16:00:00       -1                             []\n",
      "586 2024-01-25 10:00:00       -1                   [error_rate]\n",
      "602 2024-01-26 02:00:00       -1                   [error_rate]\n",
      "626 2024-01-27 02:00:00       -1                   [error_rate]\n",
      "639 2024-01-27 15:00:00       -1                   [error_rate]\n",
      "671 2024-01-28 23:00:00       -1                   [error_rate]\n",
      "675 2024-01-29 03:00:00       -1                   [error_rate]\n",
      "676 2024-01-29 04:00:00       -1                   [error_rate]\n",
      "716 2024-01-30 20:00:00       -1          [disk_io, error_rate]\n",
      "720 2024-01-31 00:00:00       -1                   [error_rate]\n",
      "735 2024-01-31 15:00:00       -1                   [error_rate]\n",
      "739 2024-01-31 19:00:00       -1                   [error_rate]\n",
      "758 2024-02-01 14:00:00       -1                   [error_rate]\n",
      "779 2024-02-02 11:00:00       -1                   [error_rate]\n",
      "826 2024-02-04 10:00:00       -1                   [error_rate]\n",
      "844 2024-02-05 04:00:00       -1                   [error_rate]\n",
      "861 2024-02-05 21:00:00       -1                   [error_rate]\n",
      "872 2024-02-06 08:00:00       -1                   [error_rate]\n",
      "903 2024-02-07 15:00:00       -1                   [error_rate]\n",
      "910 2024-02-07 22:00:00       -1                   [error_rate]\n",
      "933 2024-02-08 21:00:00       -1                   [error_rate]\n",
      "940 2024-02-09 04:00:00       -1                   [error_rate]\n"
     ]
    }
   ],
   "execution_count": 3
  },
  {
   "metadata": {
    "ExecuteTime": {
     "end_time": "2025-07-11T01:15:33.649007Z",
     "start_time": "2025-07-11T01:15:33.620836Z"
    }
   },
   "cell_type": "code",
   "source": [
    "import pandas as pd\n",
    "from sklearn.tree import DecisionTreeClassifier\n",
    "\n",
    "# 0. (Re)load your DataFrame; parse dates if reading from CSV:\n",
    "# df = pd.read_csv(\"your_data.csv\", parse_dates=['timestamp'])\n",
    "\n",
    "# 1. Print the anomalies you care about, up front:\n",
    "print(df[df['anomaly'] == -1][['timestamp', 'anomaly', 'anomalous_columns']])\n",
    "\n",
    "# 2. Convert all datetime cols to integer ordinals\n",
    "for col in df.select_dtypes(include=['datetime64[ns]', 'datetime64']).columns:\n",
    "    df[col] = df[col].map(pd.Timestamp.toordinal)\n",
    "\n",
    "# 3. Split into features X and target y\n",
    "X = df.drop('anomaly', axis=1)\n",
    "y = df['anomaly']\n",
    "\n",
    "# 4. Drop any columns that contain Python lists (they’re unhashable)\n",
    "list_cols = [\n",
    "    col for col in X.columns\n",
    "    if X[col].apply(lambda v: isinstance(v, list)).any()\n",
    "]\n",
    "if list_cols:\n",
    "    print(\"Dropping list-valued columns:\", list_cols)\n",
    "    X = X.drop(list_cols, axis=1)\n",
    "\n",
    "# 5. One-hot encode any remaining object/string columns\n",
    "X = pd.get_dummies(X, drop_first=True)\n",
    "\n",
    "# 6. Define and run your root-cause tree\n",
    "def root_cause_analysis(X_train, y_train, X_test):\n",
    "    model = DecisionTreeClassifier()\n",
    "    model.fit(X_train, y_train)\n",
    "    return model.predict(X_test)\n",
    "\n",
    "predicted_causes = root_cause_analysis(X, y, X)\n",
    "\n",
    "# 7. (Optional) Inspect your predictions\n",
    "print(predicted_causes[:10])\n",
    "\n"
   ],
   "id": "3e5780faf26c6534",
   "outputs": [
    {
     "name": "stdout",
     "output_type": "stream",
     "text": [
      "     timestamp  anomaly              anomalous_columns\n",
      "37      738887       -1                   [error_rate]\n",
      "38      738887       -1                   [error_rate]\n",
      "62      738888       -1                   [error_rate]\n",
      "132     738891       -1                   [error_rate]\n",
      "179     738893       -1                   [error_rate]\n",
      "192     738894       -1                   [error_rate]\n",
      "208     738894       -1                   [error_rate]\n",
      "241     738896       -1                   [error_rate]\n",
      "245     738896       -1                   [error_rate]\n",
      "251     738896       -1                   [error_rate]\n",
      "262     738896       -1        [cpu_usage, error_rate]\n",
      "272     738897       -1                   [error_rate]\n",
      "285     738897       -1                   [error_rate]\n",
      "315     738899       -1                   [error_rate]\n",
      "329     738899       -1                   [error_rate]\n",
      "330     738899       -1                   [error_rate]\n",
      "334     738899       -1                   [error_rate]\n",
      "350     738900       -1                   [error_rate]\n",
      "354     738900       -1                   [error_rate]\n",
      "371     738901       -1                   [error_rate]\n",
      "386     738902       -1                   [error_rate]\n",
      "387     738902       -1                   [error_rate]\n",
      "413     738903       -1                   [error_rate]\n",
      "471     738905       -1                             []\n",
      "489     738906       -1                   [error_rate]\n",
      "498     738906       -1                   [error_rate]\n",
      "505     738907       -1                   [error_rate]\n",
      "521     738907       -1  [network_latency, error_rate]\n",
      "544     738908       -1                             []\n",
      "586     738910       -1                   [error_rate]\n",
      "602     738911       -1                   [error_rate]\n",
      "626     738912       -1                   [error_rate]\n",
      "639     738912       -1                   [error_rate]\n",
      "671     738913       -1                   [error_rate]\n",
      "675     738914       -1                   [error_rate]\n",
      "676     738914       -1                   [error_rate]\n",
      "716     738915       -1          [disk_io, error_rate]\n",
      "720     738916       -1                   [error_rate]\n",
      "735     738916       -1                   [error_rate]\n",
      "739     738916       -1                   [error_rate]\n",
      "758     738917       -1                   [error_rate]\n",
      "779     738918       -1                   [error_rate]\n",
      "826     738920       -1                   [error_rate]\n",
      "844     738921       -1                   [error_rate]\n",
      "861     738921       -1                   [error_rate]\n",
      "872     738922       -1                   [error_rate]\n",
      "903     738923       -1                   [error_rate]\n",
      "910     738923       -1                   [error_rate]\n",
      "933     738924       -1                   [error_rate]\n",
      "940     738925       -1                   [error_rate]\n",
      "Dropping list-valued columns: ['anomalous_columns']\n",
      "[1 1 1 1 1 1 1 1 1 1]\n"
     ]
    }
   ],
   "execution_count": 8
  },
  {
   "metadata": {
    "ExecuteTime": {
     "end_time": "2025-07-11T01:23:38.314954Z",
     "start_time": "2025-07-11T01:23:38.302890Z"
    }
   },
   "cell_type": "code",
   "source": [
    "# Example solution recommendation based on root cause\n",
    "def recommend_solution(root_cause):\n",
    "    solutions = {\n",
    "        \"network_error\":    \"Restart the network service.\",\n",
    "        \"database_issue\":   \"Check the database connection and restart the service.\",\n",
    "        \"high_cpu_usage\":   \"Optimize running processes or allocate more resources.\"\n",
    "    }\n",
    "\n",
    "    # If we get a list (or tuple), return a list of recommendations\n",
    "    if isinstance(root_cause, (list, tuple)):\n",
    "        return [solutions.get(c, \"No recommendation available.\") for c in root_cause]\n",
    "\n",
    "    # Otherwise just look up the single cause\n",
    "    return solutions.get(root_cause, \"No recommendation available.\")\n",
    "\n",
    "# ——— Tests ———\n",
    "# Single cause\n",
    "solution = recommend_solution(\"network_error\")\n",
    "print(f\"Single cause → {solution}\")\n",
    "\n",
    "# Multiple causes\n",
    "solutions = recommend_solution([\"network_error\", \"cpu_spike\", \"foo\"])\n",
    "print(f\"Multiple causes → {solutions}\")"
   ],
   "id": "699675b714571161",
   "outputs": [
    {
     "name": "stdout",
     "output_type": "stream",
     "text": [
      "Single cause → Restart the network service.\n",
      "Multiple causes → ['Restart the network service.', 'No recommendation available.', 'No recommendation available.']\n"
     ]
    }
   ],
   "execution_count": 12
  },
  {
   "metadata": {
    "ExecuteTime": {
     "end_time": "2025-07-11T01:21:49.257066Z",
     "start_time": "2025-07-11T01:21:49.120260Z"
    }
   },
   "cell_type": "code",
   "source": "",
   "id": "4846e9f0b5a686bc",
   "outputs": [
    {
     "name": "stdout",
     "output_type": "stream",
     "text": [
      "Detected issue:         1\n",
      "Recommended solution:   No recommendation available.\n"
     ]
    }
   ],
   "execution_count": 11
  },
  {
   "metadata": {},
   "cell_type": "code",
   "outputs": [],
   "execution_count": null,
   "source": "",
   "id": "3aa22373e3eb241"
  }
 ],
 "metadata": {
  "kernelspec": {
   "display_name": "Python 3",
   "language": "python",
   "name": "python3"
  },
  "language_info": {
   "codemirror_mode": {
    "name": "ipython",
    "version": 2
   },
   "file_extension": ".py",
   "mimetype": "text/x-python",
   "name": "python",
   "nbconvert_exporter": "python",
   "pygments_lexer": "ipython2",
   "version": "2.7.6"
  }
 },
 "nbformat": 4,
 "nbformat_minor": 5
}
