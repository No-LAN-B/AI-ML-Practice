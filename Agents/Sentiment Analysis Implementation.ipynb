{
 "cells": [
  {
   "cell_type": "code",
   "id": "initial_id",
   "metadata": {
    "collapsed": true,
    "ExecuteTime": {
     "end_time": "2025-07-07T01:33:53.546948Z",
     "start_time": "2025-07-07T01:33:46.171473Z"
    }
   },
   "source": [
    "!pip install torch\n",
    "!pip install torchvision\n",
    "!pip install torchaudio\n",
    "!pip install tokenizers\n",
    "!pip install transformers"
   ],
   "outputs": [
    {
     "name": "stdout",
     "output_type": "stream",
     "text": [
      "Requirement already satisfied: torch in c:\\users\\spyqi\\pycharmprojects\\azure-ml-practice\\reinforcementlearning\\.venv\\lib\\site-packages (1.13.1)\n",
      "Requirement already satisfied: typing-extensions in c:\\users\\spyqi\\pycharmprojects\\azure-ml-practice\\reinforcementlearning\\.venv\\lib\\site-packages (from torch) (4.14.0)\n"
     ]
    },
    {
     "name": "stderr",
     "output_type": "stream",
     "text": [
      "\n",
      "[notice] A new release of pip is available: 25.0.1 -> 25.1.1\n",
      "[notice] To update, run: python.exe -m pip install --upgrade pip\n"
     ]
    },
    {
     "name": "stdout",
     "output_type": "stream",
     "text": [
      "Requirement already satisfied: torchvision in c:\\users\\spyqi\\pycharmprojects\\azure-ml-practice\\reinforcementlearning\\.venv\\lib\\site-packages (0.14.1)\n",
      "Requirement already satisfied: typing-extensions in c:\\users\\spyqi\\pycharmprojects\\azure-ml-practice\\reinforcementlearning\\.venv\\lib\\site-packages (from torchvision) (4.14.0)\n",
      "Requirement already satisfied: numpy in c:\\users\\spyqi\\pycharmprojects\\azure-ml-practice\\reinforcementlearning\\.venv\\lib\\site-packages (from torchvision) (2.1.3)\n",
      "Requirement already satisfied: requests in c:\\users\\spyqi\\pycharmprojects\\azure-ml-practice\\reinforcementlearning\\.venv\\lib\\site-packages (from torchvision) (2.32.4)\n",
      "Requirement already satisfied: torch==1.13.1 in c:\\users\\spyqi\\pycharmprojects\\azure-ml-practice\\reinforcementlearning\\.venv\\lib\\site-packages (from torchvision) (1.13.1)\n",
      "Requirement already satisfied: pillow!=8.3.*,>=5.3.0 in c:\\users\\spyqi\\pycharmprojects\\azure-ml-practice\\reinforcementlearning\\.venv\\lib\\site-packages (from torchvision) (11.2.1)\n",
      "Requirement already satisfied: charset_normalizer<4,>=2 in c:\\users\\spyqi\\pycharmprojects\\azure-ml-practice\\reinforcementlearning\\.venv\\lib\\site-packages (from requests->torchvision) (3.4.2)\n",
      "Requirement already satisfied: idna<4,>=2.5 in c:\\users\\spyqi\\pycharmprojects\\azure-ml-practice\\reinforcementlearning\\.venv\\lib\\site-packages (from requests->torchvision) (3.10)\n",
      "Requirement already satisfied: urllib3<3,>=1.21.1 in c:\\users\\spyqi\\pycharmprojects\\azure-ml-practice\\reinforcementlearning\\.venv\\lib\\site-packages (from requests->torchvision) (2.4.0)\n",
      "Requirement already satisfied: certifi>=2017.4.17 in c:\\users\\spyqi\\pycharmprojects\\azure-ml-practice\\reinforcementlearning\\.venv\\lib\\site-packages (from requests->torchvision) (2025.4.26)\n"
     ]
    },
    {
     "name": "stderr",
     "output_type": "stream",
     "text": [
      "\n",
      "[notice] A new release of pip is available: 25.0.1 -> 25.1.1\n",
      "[notice] To update, run: python.exe -m pip install --upgrade pip\n"
     ]
    },
    {
     "name": "stdout",
     "output_type": "stream",
     "text": [
      "Requirement already satisfied: torchaudio in c:\\users\\spyqi\\pycharmprojects\\azure-ml-practice\\reinforcementlearning\\.venv\\lib\\site-packages (0.13.1)"
     ]
    },
    {
     "name": "stderr",
     "output_type": "stream",
     "text": [
      "\n",
      "[notice] A new release of pip is available: 25.0.1 -> 25.1.1\n",
      "[notice] To update, run: python.exe -m pip install --upgrade pip\n"
     ]
    },
    {
     "name": "stdout",
     "output_type": "stream",
     "text": [
      "\n",
      "Requirement already satisfied: torch==1.13.1 in c:\\users\\spyqi\\pycharmprojects\\azure-ml-practice\\reinforcementlearning\\.venv\\lib\\site-packages (from torchaudio) (1.13.1)\n",
      "Requirement already satisfied: typing-extensions in c:\\users\\spyqi\\pycharmprojects\\azure-ml-practice\\reinforcementlearning\\.venv\\lib\\site-packages (from torch==1.13.1->torchaudio) (4.14.0)\n",
      "Requirement already satisfied: tokenizers in c:\\users\\spyqi\\pycharmprojects\\azure-ml-practice\\reinforcementlearning\\.venv\\lib\\site-packages (0.15.2)\n",
      "Requirement already satisfied: huggingface_hub<1.0,>=0.16.4 in c:\\users\\spyqi\\pycharmprojects\\azure-ml-practice\\reinforcementlearning\\.venv\\lib\\site-packages (from tokenizers) (0.33.0)\n",
      "Requirement already satisfied: filelock in c:\\users\\spyqi\\pycharmprojects\\azure-ml-practice\\reinforcementlearning\\.venv\\lib\\site-packages (from huggingface_hub<1.0,>=0.16.4->tokenizers) (3.18.0)\n",
      "Requirement already satisfied: fsspec>=2023.5.0 in c:\\users\\spyqi\\pycharmprojects\\azure-ml-practice\\reinforcementlearning\\.venv\\lib\\site-packages (from huggingface_hub<1.0,>=0.16.4->tokenizers) (2025.3.0)\n",
      "Requirement already satisfied: packaging>=20.9 in c:\\users\\spyqi\\pycharmprojects\\azure-ml-practice\\reinforcementlearning\\.venv\\lib\\site-packages (from huggingface_hub<1.0,>=0.16.4->tokenizers) (25.0)\n",
      "Requirement already satisfied: pyyaml>=5.1 in c:\\users\\spyqi\\pycharmprojects\\azure-ml-practice\\reinforcementlearning\\.venv\\lib\\site-packages (from huggingface_hub<1.0,>=0.16.4->tokenizers) (6.0.2)\n",
      "Requirement already satisfied: requests in c:\\users\\spyqi\\pycharmprojects\\azure-ml-practice\\reinforcementlearning\\.venv\\lib\\site-packages (from huggingface_hub<1.0,>=0.16.4->tokenizers) (2.32.4)\n",
      "Requirement already satisfied: tqdm>=4.42.1 in c:\\users\\spyqi\\pycharmprojects\\azure-ml-practice\\reinforcementlearning\\.venv\\lib\\site-packages (from huggingface_hub<1.0,>=0.16.4->tokenizers) (4.67.1)\n",
      "Requirement already satisfied: typing-extensions>=3.7.4.3 in c:\\users\\spyqi\\pycharmprojects\\azure-ml-practice\\reinforcementlearning\\.venv\\lib\\site-packages (from huggingface_hub<1.0,>=0.16.4->tokenizers) (4.14.0)\n",
      "Requirement already satisfied: colorama in c:\\users\\spyqi\\pycharmprojects\\azure-ml-practice\\reinforcementlearning\\.venv\\lib\\site-packages (from tqdm>=4.42.1->huggingface_hub<1.0,>=0.16.4->tokenizers) (0.4.6)\n",
      "Requirement already satisfied: charset_normalizer<4,>=2 in c:\\users\\spyqi\\pycharmprojects\\azure-ml-practice\\reinforcementlearning\\.venv\\lib\\site-packages (from requests->huggingface_hub<1.0,>=0.16.4->tokenizers) (3.4.2)\n",
      "Requirement already satisfied: idna<4,>=2.5 in c:\\users\\spyqi\\pycharmprojects\\azure-ml-practice\\reinforcementlearning\\.venv\\lib\\site-packages (from requests->huggingface_hub<1.0,>=0.16.4->tokenizers) (3.10)\n",
      "Requirement already satisfied: urllib3<3,>=1.21.1 in c:\\users\\spyqi\\pycharmprojects\\azure-ml-practice\\reinforcementlearning\\.venv\\lib\\site-packages (from requests->huggingface_hub<1.0,>=0.16.4->tokenizers) (2.4.0)\n",
      "Requirement already satisfied: certifi>=2017.4.17 in c:\\users\\spyqi\\pycharmprojects\\azure-ml-practice\\reinforcementlearning\\.venv\\lib\\site-packages (from requests->huggingface_hub<1.0,>=0.16.4->tokenizers) (2025.4.26)\n"
     ]
    },
    {
     "name": "stderr",
     "output_type": "stream",
     "text": [
      "\n",
      "[notice] A new release of pip is available: 25.0.1 -> 25.1.1\n",
      "[notice] To update, run: python.exe -m pip install --upgrade pip\n"
     ]
    },
    {
     "name": "stdout",
     "output_type": "stream",
     "text": [
      "Requirement already satisfied: transformers in c:\\users\\spyqi\\pycharmprojects\\azure-ml-practice\\reinforcementlearning\\.venv\\lib\\site-packages (4.36.2)\n",
      "Requirement already satisfied: filelock in c:\\users\\spyqi\\pycharmprojects\\azure-ml-practice\\reinforcementlearning\\.venv\\lib\\site-packages (from transformers) (3.18.0)\n",
      "Requirement already satisfied: huggingface-hub<1.0,>=0.19.3 in c:\\users\\spyqi\\pycharmprojects\\azure-ml-practice\\reinforcementlearning\\.venv\\lib\\site-packages (from transformers) (0.33.0)\n",
      "Requirement already satisfied: numpy>=1.17 in c:\\users\\spyqi\\pycharmprojects\\azure-ml-practice\\reinforcementlearning\\.venv\\lib\\site-packages (from transformers) (2.1.3)\n",
      "Requirement already satisfied: packaging>=20.0 in c:\\users\\spyqi\\pycharmprojects\\azure-ml-practice\\reinforcementlearning\\.venv\\lib\\site-packages (from transformers) (25.0)\n",
      "Requirement already satisfied: pyyaml>=5.1 in c:\\users\\spyqi\\pycharmprojects\\azure-ml-practice\\reinforcementlearning\\.venv\\lib\\site-packages (from transformers) (6.0.2)\n",
      "Requirement already satisfied: regex!=2019.12.17 in c:\\users\\spyqi\\pycharmprojects\\azure-ml-practice\\reinforcementlearning\\.venv\\lib\\site-packages (from transformers) (2024.11.6)\n",
      "Requirement already satisfied: requests in c:\\users\\spyqi\\pycharmprojects\\azure-ml-practice\\reinforcementlearning\\.venv\\lib\\site-packages (from transformers) (2.32.4)\n",
      "Requirement already satisfied: tokenizers<0.19,>=0.14 in c:\\users\\spyqi\\pycharmprojects\\azure-ml-practice\\reinforcementlearning\\.venv\\lib\\site-packages (from transformers) (0.15.2)\n",
      "Requirement already satisfied: safetensors>=0.3.1 in c:\\users\\spyqi\\pycharmprojects\\azure-ml-practice\\reinforcementlearning\\.venv\\lib\\site-packages (from transformers) (0.5.3)\n",
      "Requirement already satisfied: tqdm>=4.27 in c:\\users\\spyqi\\pycharmprojects\\azure-ml-practice\\reinforcementlearning\\.venv\\lib\\site-packages (from transformers) (4.67.1)\n",
      "Requirement already satisfied: fsspec>=2023.5.0 in c:\\users\\spyqi\\pycharmprojects\\azure-ml-practice\\reinforcementlearning\\.venv\\lib\\site-packages (from huggingface-hub<1.0,>=0.19.3->transformers) (2025.3.0)\n",
      "Requirement already satisfied: typing-extensions>=3.7.4.3 in c:\\users\\spyqi\\pycharmprojects\\azure-ml-practice\\reinforcementlearning\\.venv\\lib\\site-packages (from huggingface-hub<1.0,>=0.19.3->transformers) (4.14.0)\n",
      "Requirement already satisfied: colorama in c:\\users\\spyqi\\pycharmprojects\\azure-ml-practice\\reinforcementlearning\\.venv\\lib\\site-packages (from tqdm>=4.27->transformers) (0.4.6)\n",
      "Requirement already satisfied: charset_normalizer<4,>=2 in c:\\users\\spyqi\\pycharmprojects\\azure-ml-practice\\reinforcementlearning\\.venv\\lib\\site-packages (from requests->transformers) (3.4.2)\n",
      "Requirement already satisfied: idna<4,>=2.5 in c:\\users\\spyqi\\pycharmprojects\\azure-ml-practice\\reinforcementlearning\\.venv\\lib\\site-packages (from requests->transformers) (3.10)\n",
      "Requirement already satisfied: urllib3<3,>=1.21.1 in c:\\users\\spyqi\\pycharmprojects\\azure-ml-practice\\reinforcementlearning\\.venv\\lib\\site-packages (from requests->transformers) (2.4.0)\n",
      "Requirement already satisfied: certifi>=2017.4.17 in c:\\users\\spyqi\\pycharmprojects\\azure-ml-practice\\reinforcementlearning\\.venv\\lib\\site-packages (from requests->transformers) (2025.4.26)\n"
     ]
    },
    {
     "name": "stderr",
     "output_type": "stream",
     "text": [
      "\n",
      "[notice] A new release of pip is available: 25.0.1 -> 25.1.1\n",
      "[notice] To update, run: python.exe -m pip install --upgrade pip\n"
     ]
    }
   ],
   "execution_count": 3
  },
  {
   "metadata": {
    "ExecuteTime": {
     "end_time": "2025-07-07T01:33:56.481301Z",
     "start_time": "2025-07-07T01:33:56.239356Z"
    }
   },
   "cell_type": "code",
   "source": [
    "from transformers import pipeline\n",
    "import numpy as np\n",
    "\n",
    "# Initialize sentiment analyzer with specific model to avoid downloading issues\n",
    "sentiment_analyzer = pipeline(\n",
    "    \"sentiment-analysis\",\n",
    "    model=\"distilbert-base-uncased-finetuned-sst-2-english\"\n",
    ")\n",
    "\n",
    "print(\"Sentiment analysis model loaded successfully!\")"
   ],
   "id": "10a5575e091eeb3b",
   "outputs": [
    {
     "name": "stdout",
     "output_type": "stream",
     "text": [
      "Sentiment analysis model loaded successfully!\n"
     ]
    }
   ],
   "execution_count": 4
  },
  {
   "metadata": {
    "ExecuteTime": {
     "end_time": "2025-07-07T01:38:44.997543Z",
     "start_time": "2025-07-07T01:38:44.444984Z"
    }
   },
   "cell_type": "code",
   "source": [
    "from transformers import AutoTokenizer, AutoModelForSequenceClassification\n",
    "import torch\n",
    "\n",
    "# 1. Load the tokenizer & model (pinning model + rev)\n",
    "model_name = \"distilbert-base-uncased-finetuned-sst-2-english\"\n",
    "revision   = \"af0f99b\"\n",
    "\n",
    "tokenizer = AutoTokenizer.from_pretrained(model_name, revision=revision)\n",
    "model     = AutoModelForSequenceClassification.from_pretrained(model_name, revision=revision)\n",
    "model.eval()  # disable dropout\n",
    "\n",
    "texts = [\n",
    "    \"I love this product! It's amazing.\",\n",
    "    \"The service was terrible and I'm very disappointed.\",\n",
    "    \"It's okay, not great but not bad either.\"\n",
    "]\n",
    "\n",
    "# 2. Loop through your texts\n",
    "for txt in texts:\n",
    "    # tokenize & forward\n",
    "    inputs = tokenizer(txt, return_tensors=\"pt\")\n",
    "    with torch.no_grad():\n",
    "        logits = model(**inputs).logits\n",
    "\n",
    "    # convert logits → probabilities\n",
    "    probs = torch.softmax(logits, dim=-1)[0]\n",
    "    # pick the highest\n",
    "    score = probs.max().item()\n",
    "    label = model.config.id2label[probs.argmax().item()]\n",
    "\n",
    "    print(f\"{txt!r} → {label} ({score:.2f})\")"
   ],
   "id": "d1fd8f53f5ef3b1d",
   "outputs": [
    {
     "name": "stdout",
     "output_type": "stream",
     "text": [
      "\"I love this product! It's amazing.\" → POSITIVE (1.00)\n",
      "\"The service was terrible and I'm very disappointed.\" → NEGATIVE (1.00)\n",
      "\"It's okay, not great but not bad either.\" → POSITIVE (1.00)\n"
     ]
    }
   ],
   "execution_count": 13
  },
  {
   "metadata": {
    "ExecuteTime": {
     "end_time": "2025-07-07T01:41:00.634968Z",
     "start_time": "2025-07-07T01:40:56.033129Z"
    }
   },
   "cell_type": "code",
   "source": [
    "from transformers import AutoTokenizer, AutoModelForSequenceClassification\n",
    "import torch\n",
    "\n",
    "# 1) Load & pin the exact model\n",
    "MODEL   = \"distilbert-base-uncased-finetuned-sst-2-english\"\n",
    "REV     = \"af0f99b\"\n",
    "tokenizer = AutoTokenizer.from_pretrained(MODEL, revision=REV)\n",
    "model     = AutoModelForSequenceClassification.from_pretrained(MODEL, revision=REV)\n",
    "model.eval()\n",
    "\n",
    "# 2) Prompt the user\n",
    "custom_text = input(\"Enter a sentence for sentiment analysis: \")\n",
    "\n",
    "# 3) Tokenize & run (no gradients)\n",
    "inputs = tokenizer(custom_text, return_tensors=\"pt\", truncation=True)\n",
    "with torch.no_grad():\n",
    "    logits = model(**inputs).logits\n",
    "\n",
    "# 4) Convert to probabilities & pick the top label\n",
    "probs = torch.softmax(logits, dim=-1)[0]\n",
    "score, idx = probs.max(dim=0)\n",
    "label = model.config.id2label[idx.item()]\n",
    "\n",
    "# 5) Display results\n",
    "print(f\"\\nSentiment:   {label}\")\n",
    "print(f\"Confidence:  {score.item():.2f}\")\n"
   ],
   "id": "883892e9de25151a",
   "outputs": [
    {
     "name": "stdout",
     "output_type": "stream",
     "text": [
      "\n",
      "Sentiment:   NEGATIVE\n",
      "Confidence:  1.00\n"
     ]
    }
   ],
   "execution_count": 15
  },
  {
   "metadata": {
    "ExecuteTime": {
     "end_time": "2025-07-07T01:43:34.249311Z",
     "start_time": "2025-07-07T01:43:33.849660Z"
    }
   },
   "cell_type": "code",
   "source": [
    "from transformers import AutoTokenizer, AutoModelForSequenceClassification\n",
    "import torch\n",
    "\n",
    "# 1) Load & pin your model + tokenizer\n",
    "MODEL   = \"distilbert-base-uncased-finetuned-sst-2-english\"\n",
    "REV     = \"af0f99b\"\n",
    "tokenizer = AutoTokenizer.from_pretrained(MODEL, revision=REV)\n",
    "model     = AutoModelForSequenceClassification.from_pretrained(MODEL, revision=REV)\n",
    "model.eval()\n",
    "\n",
    "# 2) Your “long” text\n",
    "long_text = \"\"\"\n",
    "The product is good overall, but there are some issues with battery life.\n",
    "I wish it lasted longer. However, the design is sleek, and I’m happy with the performance so far.\n",
    "\"\"\"\n",
    "\n",
    "# 3) Tokenize with truncation (and padding, if you want a batch later)\n",
    "inputs = tokenizer(\n",
    "    long_text,\n",
    "    return_tensors=\"pt\",\n",
    "    truncation=True,      # chops off beyond 512 tokens\n",
    "    padding=False,        # no pad needed for single example\n",
    "    max_length=512\n",
    ")\n",
    "\n",
    "# 4) Forward + no grad\n",
    "with torch.no_grad():\n",
    "    logits = model(**inputs).logits  # shape (1, 2)\n",
    "\n",
    "# 5) Softmax → probabilities\n",
    "probs = torch.softmax(logits, dim=-1)[0]  # tensor([neg_score, pos_score])\n",
    "\n",
    "# 6) Print out both labels\n",
    "for idx, score in enumerate(probs):\n",
    "    label = model.config.id2label[idx]\n",
    "    print(f\"{label:>8}: {score.item():.2f}\")\n"
   ],
   "id": "aa101c31d8d55b08",
   "outputs": [
    {
     "name": "stdout",
     "output_type": "stream",
     "text": [
      "NEGATIVE: 0.00\n",
      "POSITIVE: 1.00\n"
     ]
    }
   ],
   "execution_count": 19
  },
  {
   "metadata": {},
   "cell_type": "code",
   "outputs": [],
   "execution_count": null,
   "source": "",
   "id": "a83b335f8624cf63"
  }
 ],
 "metadata": {
  "kernelspec": {
   "display_name": "Python 3",
   "language": "python",
   "name": "python3"
  },
  "language_info": {
   "codemirror_mode": {
    "name": "ipython",
    "version": 2
   },
   "file_extension": ".py",
   "mimetype": "text/x-python",
   "name": "python",
   "nbconvert_exporter": "python",
   "pygments_lexer": "ipython2",
   "version": "2.7.6"
  }
 },
 "nbformat": 4,
 "nbformat_minor": 5
}
