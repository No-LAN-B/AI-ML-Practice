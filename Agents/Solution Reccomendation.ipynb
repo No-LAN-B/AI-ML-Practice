{
 "cells": [
  {
   "cell_type": "code",
   "id": "initial_id",
   "metadata": {
    "collapsed": true,
    "ExecuteTime": {
     "end_time": "2025-07-10T23:42:41.772205Z",
     "start_time": "2025-07-10T23:42:41.027166Z"
    }
   },
   "source": [
    "import pandas as pd\n",
    "\n",
    "# Load the dataset\n",
    "df = pd.read_csv('preprocessed_dummy_data.csv')\n",
    "\n",
    "# Explore the dataset\n",
    "print(df.head())\n",
    "print(df.info())"
   ],
   "outputs": [
    {
     "name": "stdout",
     "output_type": "stream",
     "text": [
      "   Feature1  Feature2    Target  Category_A  Category_B  Category_C  \\\n",
      "0  1.698298 -0.519379  0.932936        True       False       False   \n",
      "1  0.338384  0.887380  0.932936       False        True       False   \n",
      "2  0.915276  1.442679 -1.071884       False       False        True   \n",
      "3  2.173747 -0.556399  0.932936       False       False       False   \n",
      "4  1.801501 -1.222759 -1.071884        True       False       False   \n",
      "\n",
      "   Category_D  \n",
      "0       False  \n",
      "1       False  \n",
      "2       False  \n",
      "3        True  \n",
      "4       False  \n",
      "<class 'pandas.core.frame.DataFrame'>\n",
      "RangeIndex: 101 entries, 0 to 100\n",
      "Data columns (total 7 columns):\n",
      " #   Column      Non-Null Count  Dtype  \n",
      "---  ------      --------------  -----  \n",
      " 0   Feature1    101 non-null    float64\n",
      " 1   Feature2    101 non-null    float64\n",
      " 2   Target      101 non-null    float64\n",
      " 3   Category_A  101 non-null    bool   \n",
      " 4   Category_B  101 non-null    bool   \n",
      " 5   Category_C  101 non-null    bool   \n",
      " 6   Category_D  101 non-null    bool   \n",
      "dtypes: bool(4), float64(3)\n",
      "memory usage: 2.9 KB\n",
      "None\n"
     ]
    }
   ],
   "execution_count": 1
  },
  {
   "metadata": {},
   "cell_type": "code",
   "source": [
    "from sklearn.model_selection import train_test_split\n",
    "\n",
    "# Handle missing values (example: filling missing values with the median)\n",
    "df.fillna(df.median(), inplace=True)\n",
    "\n",
    "# Split the data into features (problem descriptions) and labels (solutions)\n",
    "X = df.drop('solution_column', axis=1)\n",
    "y = df['solution_column']\n",
    "\n",
    "# Split into training and testing sets\n",
    "X_train, X_test, y_train, y_test = train_test_split(X, y, test_size=0.2, random_state=42)"
   ],
   "id": "121f6f0c0f1f91ca",
   "outputs": [],
   "execution_count": null
  },
  {
   "metadata": {},
   "cell_type": "code",
   "source": [
    "from sklearn.neighbors import KNeighborsClassifier\n",
    "\n",
    "# Train the KNN recommendation model\n",
    "knn = KNeighborsClassifier()\n",
    "knn.fit(X_train, y_train)\n",
    "\n",
    "# Make predictions on the test data\n",
    "y_pred = knn.predict(X_test)"
   ],
   "id": "6f0832d3ae844992",
   "outputs": [],
   "execution_count": null
  },
  {
   "metadata": {},
   "cell_type": "code",
   "source": [
    "from sklearn.metrics import accuracy_score\n",
    "\n",
    "# Evaluate the model's accuracy\n",
    "accuracy = accuracy_score(y_test, y_pred)\n",
    "print(f\"Recommendation Model Accuracy: {accuracy * 100:.2f}%\")"
   ],
   "id": "c0169fb364c03e16",
   "outputs": [],
   "execution_count": null
  },
  {
   "metadata": {},
   "cell_type": "code",
   "outputs": [],
   "execution_count": null,
   "source": "",
   "id": "f7268c8b1d34f2ff"
  }
 ],
 "metadata": {
  "kernelspec": {
   "display_name": "Python 3",
   "language": "python",
   "name": "python3"
  },
  "language_info": {
   "codemirror_mode": {
    "name": "ipython",
    "version": 2
   },
   "file_extension": ".py",
   "mimetype": "text/x-python",
   "name": "python",
   "nbconvert_exporter": "python",
   "pygments_lexer": "ipython2",
   "version": "2.7.6"
  }
 },
 "nbformat": 4,
 "nbformat_minor": 5
}
