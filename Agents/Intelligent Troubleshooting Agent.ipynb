{
 "cells": [
  {
   "cell_type": "code",
   "id": "initial_id",
   "metadata": {
    "collapsed": true,
    "ExecuteTime": {
     "end_time": "2025-07-03T20:42:50.594624Z",
     "start_time": "2025-07-03T20:42:48.986789Z"
    }
   },
   "source": "!pip install nltk spacy transformers\n",
   "outputs": [
    {
     "name": "stdout",
     "output_type": "stream",
     "text": [
      "Requirement already satisfied: nltk in c:\\users\\spyqi\\pycharmprojects\\azure-ml-practice\\reinforcementlearning\\.venv\\lib\\site-packages (3.9.1)\n",
      "Requirement already satisfied: spacy in c:\\users\\spyqi\\pycharmprojects\\azure-ml-practice\\reinforcementlearning\\.venv\\lib\\site-packages (3.8.7)\n",
      "Requirement already satisfied: transformers in c:\\users\\spyqi\\pycharmprojects\\azure-ml-practice\\reinforcementlearning\\.venv\\lib\\site-packages (4.52.4)\n",
      "Requirement already satisfied: click in c:\\users\\spyqi\\pycharmprojects\\azure-ml-practice\\reinforcementlearning\\.venv\\lib\\site-packages (from nltk) (8.2.1)\n",
      "Requirement already satisfied: joblib in c:\\users\\spyqi\\pycharmprojects\\azure-ml-practice\\reinforcementlearning\\.venv\\lib\\site-packages (from nltk) (1.5.1)\n",
      "Requirement already satisfied: regex>=2021.8.3 in c:\\users\\spyqi\\pycharmprojects\\azure-ml-practice\\reinforcementlearning\\.venv\\lib\\site-packages (from nltk) (2024.11.6)\n",
      "Requirement already satisfied: tqdm in c:\\users\\spyqi\\pycharmprojects\\azure-ml-practice\\reinforcementlearning\\.venv\\lib\\site-packages (from nltk) (4.67.1)\n",
      "Requirement already satisfied: spacy-legacy<3.1.0,>=3.0.11 in c:\\users\\spyqi\\pycharmprojects\\azure-ml-practice\\reinforcementlearning\\.venv\\lib\\site-packages (from spacy) (3.0.12)\n",
      "Requirement already satisfied: spacy-loggers<2.0.0,>=1.0.0 in c:\\users\\spyqi\\pycharmprojects\\azure-ml-practice\\reinforcementlearning\\.venv\\lib\\site-packages (from spacy) (1.0.5)\n",
      "Requirement already satisfied: murmurhash<1.1.0,>=0.28.0 in c:\\users\\spyqi\\pycharmprojects\\azure-ml-practice\\reinforcementlearning\\.venv\\lib\\site-packages (from spacy) (1.0.13)\n",
      "Requirement already satisfied: cymem<2.1.0,>=2.0.2 in c:\\users\\spyqi\\pycharmprojects\\azure-ml-practice\\reinforcementlearning\\.venv\\lib\\site-packages (from spacy) (2.0.11)\n",
      "Requirement already satisfied: preshed<3.1.0,>=3.0.2 in c:\\users\\spyqi\\pycharmprojects\\azure-ml-practice\\reinforcementlearning\\.venv\\lib\\site-packages (from spacy) (3.0.10)\n",
      "Requirement already satisfied: thinc<8.4.0,>=8.3.4 in c:\\users\\spyqi\\pycharmprojects\\azure-ml-practice\\reinforcementlearning\\.venv\\lib\\site-packages (from spacy) (8.3.6)\n",
      "Requirement already satisfied: wasabi<1.2.0,>=0.9.1 in c:\\users\\spyqi\\pycharmprojects\\azure-ml-practice\\reinforcementlearning\\.venv\\lib\\site-packages (from spacy) (1.1.3)\n",
      "Requirement already satisfied: srsly<3.0.0,>=2.4.3 in c:\\users\\spyqi\\pycharmprojects\\azure-ml-practice\\reinforcementlearning\\.venv\\lib\\site-packages (from spacy) (2.5.1)\n",
      "Requirement already satisfied: catalogue<2.1.0,>=2.0.6 in c:\\users\\spyqi\\pycharmprojects\\azure-ml-practice\\reinforcementlearning\\.venv\\lib\\site-packages (from spacy) (2.0.10)\n",
      "Requirement already satisfied: weasel<0.5.0,>=0.1.0 in c:\\users\\spyqi\\pycharmprojects\\azure-ml-practice\\reinforcementlearning\\.venv\\lib\\site-packages (from spacy) (0.4.1)\n",
      "Requirement already satisfied: typer<1.0.0,>=0.3.0 in c:\\users\\spyqi\\pycharmprojects\\azure-ml-practice\\reinforcementlearning\\.venv\\lib\\site-packages (from spacy) (0.16.0)\n",
      "Requirement already satisfied: numpy>=1.19.0 in c:\\users\\spyqi\\pycharmprojects\\azure-ml-practice\\reinforcementlearning\\.venv\\lib\\site-packages (from spacy) (2.1.3)\n",
      "Requirement already satisfied: requests<3.0.0,>=2.13.0 in c:\\users\\spyqi\\pycharmprojects\\azure-ml-practice\\reinforcementlearning\\.venv\\lib\\site-packages (from spacy) (2.32.4)\n",
      "Requirement already satisfied: pydantic!=1.8,!=1.8.1,<3.0.0,>=1.7.4 in c:\\users\\spyqi\\pycharmprojects\\azure-ml-practice\\reinforcementlearning\\.venv\\lib\\site-packages (from spacy) (2.11.7)\n",
      "Requirement already satisfied: jinja2 in c:\\users\\spyqi\\pycharmprojects\\azure-ml-practice\\reinforcementlearning\\.venv\\lib\\site-packages (from spacy) (3.1.6)\n",
      "Requirement already satisfied: setuptools in c:\\users\\spyqi\\pycharmprojects\\azure-ml-practice\\reinforcementlearning\\.venv\\lib\\site-packages (from spacy) (78.1.0)\n",
      "Requirement already satisfied: packaging>=20.0 in c:\\users\\spyqi\\pycharmprojects\\azure-ml-practice\\reinforcementlearning\\.venv\\lib\\site-packages (from spacy) (25.0)\n",
      "Requirement already satisfied: langcodes<4.0.0,>=3.2.0 in c:\\users\\spyqi\\pycharmprojects\\azure-ml-practice\\reinforcementlearning\\.venv\\lib\\site-packages (from spacy) (3.5.0)\n",
      "Requirement already satisfied: filelock in c:\\users\\spyqi\\pycharmprojects\\azure-ml-practice\\reinforcementlearning\\.venv\\lib\\site-packages (from transformers) (3.18.0)\n",
      "Requirement already satisfied: huggingface-hub<1.0,>=0.30.0 in c:\\users\\spyqi\\pycharmprojects\\azure-ml-practice\\reinforcementlearning\\.venv\\lib\\site-packages (from transformers) (0.33.0)\n",
      "Requirement already satisfied: pyyaml>=5.1 in c:\\users\\spyqi\\pycharmprojects\\azure-ml-practice\\reinforcementlearning\\.venv\\lib\\site-packages (from transformers) (6.0.2)\n",
      "Requirement already satisfied: tokenizers<0.22,>=0.21 in c:\\users\\spyqi\\pycharmprojects\\azure-ml-practice\\reinforcementlearning\\.venv\\lib\\site-packages (from transformers) (0.21.1)\n",
      "Requirement already satisfied: safetensors>=0.4.3 in c:\\users\\spyqi\\pycharmprojects\\azure-ml-practice\\reinforcementlearning\\.venv\\lib\\site-packages (from transformers) (0.5.3)\n",
      "Requirement already satisfied: fsspec>=2023.5.0 in c:\\users\\spyqi\\pycharmprojects\\azure-ml-practice\\reinforcementlearning\\.venv\\lib\\site-packages (from huggingface-hub<1.0,>=0.30.0->transformers) (2025.3.0)\n",
      "Requirement already satisfied: typing-extensions>=3.7.4.3 in c:\\users\\spyqi\\pycharmprojects\\azure-ml-practice\\reinforcementlearning\\.venv\\lib\\site-packages (from huggingface-hub<1.0,>=0.30.0->transformers) (4.14.0)\n",
      "Requirement already satisfied: language-data>=1.2 in c:\\users\\spyqi\\pycharmprojects\\azure-ml-practice\\reinforcementlearning\\.venv\\lib\\site-packages (from langcodes<4.0.0,>=3.2.0->spacy) (1.3.0)\n",
      "Requirement already satisfied: annotated-types>=0.6.0 in c:\\users\\spyqi\\pycharmprojects\\azure-ml-practice\\reinforcementlearning\\.venv\\lib\\site-packages (from pydantic!=1.8,!=1.8.1,<3.0.0,>=1.7.4->spacy) (0.7.0)\n",
      "Requirement already satisfied: pydantic-core==2.33.2 in c:\\users\\spyqi\\pycharmprojects\\azure-ml-practice\\reinforcementlearning\\.venv\\lib\\site-packages (from pydantic!=1.8,!=1.8.1,<3.0.0,>=1.7.4->spacy) (2.33.2)\n",
      "Requirement already satisfied: typing-inspection>=0.4.0 in c:\\users\\spyqi\\pycharmprojects\\azure-ml-practice\\reinforcementlearning\\.venv\\lib\\site-packages (from pydantic!=1.8,!=1.8.1,<3.0.0,>=1.7.4->spacy) (0.4.1)\n",
      "Requirement already satisfied: charset_normalizer<4,>=2 in c:\\users\\spyqi\\pycharmprojects\\azure-ml-practice\\reinforcementlearning\\.venv\\lib\\site-packages (from requests<3.0.0,>=2.13.0->spacy) (3.4.2)\n",
      "Requirement already satisfied: idna<4,>=2.5 in c:\\users\\spyqi\\pycharmprojects\\azure-ml-practice\\reinforcementlearning\\.venv\\lib\\site-packages (from requests<3.0.0,>=2.13.0->spacy) (3.10)\n",
      "Requirement already satisfied: urllib3<3,>=1.21.1 in c:\\users\\spyqi\\pycharmprojects\\azure-ml-practice\\reinforcementlearning\\.venv\\lib\\site-packages (from requests<3.0.0,>=2.13.0->spacy) (2.4.0)\n",
      "Requirement already satisfied: certifi>=2017.4.17 in c:\\users\\spyqi\\pycharmprojects\\azure-ml-practice\\reinforcementlearning\\.venv\\lib\\site-packages (from requests<3.0.0,>=2.13.0->spacy) (2025.4.26)\n",
      "Requirement already satisfied: blis<1.4.0,>=1.3.0 in c:\\users\\spyqi\\pycharmprojects\\azure-ml-practice\\reinforcementlearning\\.venv\\lib\\site-packages (from thinc<8.4.0,>=8.3.4->spacy) (1.3.0)\n",
      "Requirement already satisfied: confection<1.0.0,>=0.0.1 in c:\\users\\spyqi\\pycharmprojects\\azure-ml-practice\\reinforcementlearning\\.venv\\lib\\site-packages (from thinc<8.4.0,>=8.3.4->spacy) (0.1.5)\n",
      "Requirement already satisfied: colorama in c:\\users\\spyqi\\pycharmprojects\\azure-ml-practice\\reinforcementlearning\\.venv\\lib\\site-packages (from tqdm->nltk) (0.4.6)\n",
      "Requirement already satisfied: shellingham>=1.3.0 in c:\\users\\spyqi\\pycharmprojects\\azure-ml-practice\\reinforcementlearning\\.venv\\lib\\site-packages (from typer<1.0.0,>=0.3.0->spacy) (1.5.4)\n",
      "Requirement already satisfied: rich>=10.11.0 in c:\\users\\spyqi\\pycharmprojects\\azure-ml-practice\\reinforcementlearning\\.venv\\lib\\site-packages (from typer<1.0.0,>=0.3.0->spacy) (14.0.0)\n",
      "Requirement already satisfied: cloudpathlib<1.0.0,>=0.7.0 in c:\\users\\spyqi\\pycharmprojects\\azure-ml-practice\\reinforcementlearning\\.venv\\lib\\site-packages (from weasel<0.5.0,>=0.1.0->spacy) (0.21.1)\n",
      "Requirement already satisfied: smart-open<8.0.0,>=5.2.1 in c:\\users\\spyqi\\pycharmprojects\\azure-ml-practice\\reinforcementlearning\\.venv\\lib\\site-packages (from weasel<0.5.0,>=0.1.0->spacy) (7.3.0.post1)\n",
      "Requirement already satisfied: MarkupSafe>=2.0 in c:\\users\\spyqi\\pycharmprojects\\azure-ml-practice\\reinforcementlearning\\.venv\\lib\\site-packages (from jinja2->spacy) (3.0.2)\n",
      "Requirement already satisfied: marisa-trie>=1.1.0 in c:\\users\\spyqi\\pycharmprojects\\azure-ml-practice\\reinforcementlearning\\.venv\\lib\\site-packages (from language-data>=1.2->langcodes<4.0.0,>=3.2.0->spacy) (1.2.1)\n",
      "Requirement already satisfied: markdown-it-py>=2.2.0 in c:\\users\\spyqi\\pycharmprojects\\azure-ml-practice\\reinforcementlearning\\.venv\\lib\\site-packages (from rich>=10.11.0->typer<1.0.0,>=0.3.0->spacy) (3.0.0)\n",
      "Requirement already satisfied: pygments<3.0.0,>=2.13.0 in c:\\users\\spyqi\\pycharmprojects\\azure-ml-practice\\reinforcementlearning\\.venv\\lib\\site-packages (from rich>=10.11.0->typer<1.0.0,>=0.3.0->spacy) (2.19.1)\n",
      "Requirement already satisfied: wrapt in c:\\users\\spyqi\\pycharmprojects\\azure-ml-practice\\reinforcementlearning\\.venv\\lib\\site-packages (from smart-open<8.0.0,>=5.2.1->weasel<0.5.0,>=0.1.0->spacy) (1.17.2)\n",
      "Requirement already satisfied: mdurl~=0.1 in c:\\users\\spyqi\\pycharmprojects\\azure-ml-practice\\reinforcementlearning\\.venv\\lib\\site-packages (from markdown-it-py>=2.2.0->rich>=10.11.0->typer<1.0.0,>=0.3.0->spacy) (0.1.2)\n"
     ]
    },
    {
     "name": "stderr",
     "output_type": "stream",
     "text": [
      "\n",
      "[notice] A new release of pip is available: 25.0.1 -> 25.1.1\n",
      "[notice] To update, run: python.exe -m pip install --upgrade pip\n"
     ]
    }
   ],
   "execution_count": 1
  },
  {
   "metadata": {
    "ExecuteTime": {
     "end_time": "2025-07-03T20:42:54.204562Z",
     "start_time": "2025-07-03T20:42:54.190942Z"
    }
   },
   "cell_type": "code",
   "source": [
    "{\n",
    "    \"slow_internet\": {\n",
    "        \"symptom\": \"My internet is slow.\",\n",
    "        \"solution\": \"Restart your router and check your connection settings.\"\n",
    "    },\n",
    "    \"software_crash\": {\n",
    "        \"symptom\": \"The application keeps crashing.\",\n",
    "        \"solution\": \"Update the application and restart your computer.\"\n",
    "    },\n",
    "    \"no_sound\": {\n",
    "        \"symptom\": \"No sound is coming from my speakers.\",\n",
    "        \"solution\": \"Check if the speakers are connected and not muted.\"\n",
    "    },\n",
    "    \"printer_not_working\": {\n",
    "        \"symptom\": \"The printer is not working.\",\n",
    "        \"solution\": \"Ensure the printer is connected and check for paper jams.\"\n",
    "    },\n",
    "    \"device_not_charging\": {\n",
    "        \"symptom\": \"My device is not charging.\",\n",
    "        \"solution\": \"Check if the charger is properly connected and working.\"\n",
    "    }\n",
    "}"
   ],
   "id": "8854e3cbd7e89285",
   "outputs": [
    {
     "data": {
      "text/plain": [
       "{'slow_internet': {'symptom': 'My internet is slow.',\n",
       "  'solution': 'Restart your router and check your connection settings.'},\n",
       " 'software_crash': {'symptom': 'The application keeps crashing.',\n",
       "  'solution': 'Update the application and restart your computer.'},\n",
       " 'no_sound': {'symptom': 'No sound is coming from my speakers.',\n",
       "  'solution': 'Check if the speakers are connected and not muted.'},\n",
       " 'printer_not_working': {'symptom': 'The printer is not working.',\n",
       "  'solution': 'Ensure the printer is connected and check for paper jams.'},\n",
       " 'device_not_charging': {'symptom': 'My device is not charging.',\n",
       "  'solution': 'Check if the charger is properly connected and working.'}}"
      ]
     },
     "execution_count": 2,
     "metadata": {},
     "output_type": "execute_result"
    }
   ],
   "execution_count": 2
  },
  {
   "metadata": {
    "ExecuteTime": {
     "end_time": "2025-07-03T20:44:37.458021Z",
     "start_time": "2025-07-03T20:44:25.264867Z"
    }
   },
   "cell_type": "code",
   "source": [
    "import json  # Import the JSON library to work with data in JSON format\n",
    "from transformers import pipeline  # Import the pipeline tool from transformers for NLP\n",
    "import spacy  # Import spaCy for advanced NLP capabilities\n",
    "\n",
    "# Load a pre-trained spaCy model for general NLP tasks\n",
    "nlp = spacy.load(\"en_core_web_sm\")\n",
    "\n",
    "# Initialize a question-answering NLP pipeline\n",
    "qa_pipeline = pipeline(\"question-answering\")\n",
    "\n",
    "# Load the troubleshooting knowledge base\n",
    "with open('troubleshooting_knowledge_base.json', 'r') as f:\n",
    "    knowledge_base = json.load(f)  # Load JSON file containing issues and solutions\n",
    "\n",
    "# Define a function to match user input to the most relevant knowledge base entry\n",
    "def find_best_match(user_input, knowledge_base):\n",
    "    # Iterate over each issue in the knowledge base\n",
    "    for issue, details in knowledge_base.items():\n",
    "        symptom_text = details[\"symptom\"]  # Access the symptom text for comparison\n",
    "\n",
    "        # Use NLP model to calculate similarity between user input and symptom text\n",
    "        doc1 = nlp(user_input.lower())  # Convert user input to lowercase and process with spaCy\n",
    "        doc2 = nlp(symptom_text.lower())  # Process symptom text with spaCy for comparison\n",
    "\n",
    "        similarity = doc1.similarity(doc2)  # Calculate similarity score between input and symptom\n",
    "        if similarity > 0.75:  # Use a threshold (e.g., 0.75) to determine a match\n",
    "            return details[\"solution\"]  # Return the solution if similarity threshold is met\n",
    "\n",
    "    # Return default response if no match is found\n",
    "    return \"No matching issue found in the knowledge base.\"\n",
    "\n",
    "# Gather user input from the console\n",
    "user_input = input(\"Please describe your problem: \")\n",
    "\n",
    "# Call the function to find the best match in the knowledge base\n",
    "solution = find_best_match(user_input, knowledge_base)\n",
    "\n",
    "# Output the solution or default response to the user\n",
    "print(f\"Solution: {solution}\")"
   ],
   "id": "31ecfe221618a150",
   "outputs": [
    {
     "name": "stderr",
     "output_type": "stream",
     "text": [
      "No model was supplied, defaulted to distilbert/distilbert-base-cased-distilled-squad and revision 564e9b5 (https://huggingface.co/distilbert/distilbert-base-cased-distilled-squad).\n",
      "Using a pipeline without specifying a model name and revision in production is not recommended.\n"
     ]
    },
    {
     "name": "stdout",
     "output_type": "stream",
     "text": [
      "WARNING:tensorflow:From C:\\Users\\Spyqi\\PycharmProjects\\Azure-ML-Practice\\ReinforcementLearning\\.venv\\lib\\site-packages\\tf_keras\\src\\losses.py:2976: The name tf.losses.sparse_softmax_cross_entropy is deprecated. Please use tf.compat.v1.losses.sparse_softmax_cross_entropy instead.\n",
      "\n"
     ]
    },
    {
     "name": "stderr",
     "output_type": "stream",
     "text": [
      "Device set to use cpu\n"
     ]
    },
    {
     "name": "stdout",
     "output_type": "stream",
     "text": [
      "Solution: No matching issue found in the knowledge base.\n"
     ]
    },
    {
     "name": "stderr",
     "output_type": "stream",
     "text": [
      "C:\\Users\\Spyqi\\AppData\\Local\\Temp\\ipykernel_27328\\1478513210.py:25: UserWarning: [W007] The model you're using has no word vectors loaded, so the result of the Doc.similarity method will be based on the tagger, parser and NER, which may not give useful similarity judgements. This may happen if you're using one of the small models, e.g. `en_core_web_sm`, which don't ship with word vectors and only use context-sensitive tensors. You can always add your own word vectors, or use one of the larger models instead if available.\n",
      "  similarity = doc1.similarity(doc2)  # Calculate similarity score between input and symptom\n"
     ]
    }
   ],
   "execution_count": 4
  },
  {
   "metadata": {
    "ExecuteTime": {
     "end_time": "2025-07-03T20:44:56.775556Z",
     "start_time": "2025-07-03T20:44:56.762455Z"
    }
   },
   "cell_type": "code",
   "source": [
    "# Define a function to troubleshoot internet-related issues with follow-up questions\n",
    "def diagnose_internet_issue():\n",
    "    print(\"Have you tried restarting your router?\")  # Initial diagnostic question\n",
    "    response = input(\"Yes/No: \").strip().lower()  # Collect and standardize the user's response\n",
    "\n",
    "    # Check user response to provide further guidance\n",
    "    if response == \"no\":\n",
    "        # If user hasn't restarted the router, suggest this step first\n",
    "        print(\"Please restart your router and check if the issue persists.\")\n",
    "    else:\n",
    "        # If user already tried restarting, suggest advanced troubleshooting\n",
    "        print(\"Try resetting your network settings or contacting your provider.\")\n",
    "\n",
    "# Trigger diagnostic logic if the user describes an internet-related problem\n",
    "if \"internet\" in user_input.lower() or \"slow connection\" in user_input.lower():\n",
    "    diagnose_internet_issue()\n"
   ],
   "id": "33be0d8d931726f",
   "outputs": [],
   "execution_count": 5
  },
  {
   "metadata": {
    "ExecuteTime": {
     "end_time": "2025-07-03T20:45:09.800120Z",
     "start_time": "2025-07-03T20:45:09.756078Z"
    }
   },
   "cell_type": "code",
   "source": [
    "print(\"Attempting to reset your network settings automatically...\")\n",
    "!sudo systemctl restart systemd-networkd.service\n",
    "print(\"Network settings have been reset. Please check your connection.\")"
   ],
   "id": "180fcbf6c14c0cfc",
   "outputs": [
    {
     "name": "stdout",
     "output_type": "stream",
     "text": [
      "Attempting to reset your network settings automatically...\n",
      "Network settings have been reset. Please check your connection.\n"
     ]
    },
    {
     "name": "stderr",
     "output_type": "stream",
     "text": [
      "'sudo' is not recognized as an internal or external command,\n",
      "operable program or batch file.\n"
     ]
    }
   ],
   "execution_count": 6
  },
  {
   "metadata": {
    "ExecuteTime": {
     "end_time": "2025-07-05T06:19:57.471583Z",
     "start_time": "2025-07-05T06:19:57.459366Z"
    }
   },
   "cell_type": "code",
   "source": "# :)",
   "id": "15427b72d7390782",
   "outputs": [],
   "execution_count": 1
  },
  {
   "metadata": {},
   "cell_type": "code",
   "outputs": [],
   "execution_count": null,
   "source": "",
   "id": "e942cdda4efe97fd"
  }
 ],
 "metadata": {
  "kernelspec": {
   "display_name": "Python 3",
   "language": "python",
   "name": "python3"
  },
  "language_info": {
   "codemirror_mode": {
    "name": "ipython",
    "version": 2
   },
   "file_extension": ".py",
   "mimetype": "text/x-python",
   "name": "python",
   "nbconvert_exporter": "python",
   "pygments_lexer": "ipython2",
   "version": "2.7.6"
  }
 },
 "nbformat": 4,
 "nbformat_minor": 5
}
