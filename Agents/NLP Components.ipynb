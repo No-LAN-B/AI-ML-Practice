{
 "cells": [
  {
   "metadata": {},
   "cell_type": "code",
   "outputs": [],
   "execution_count": null,
   "source": "!pip install numpy\n",
   "id": "6b98e8706a229b44"
  },
  {
   "metadata": {
    "ExecuteTime": {
     "end_time": "2025-07-07T21:38:04.984546Z",
     "start_time": "2025-07-07T21:38:04.974046Z"
    }
   },
   "cell_type": "code",
   "source": [
    "import nltk\n",
    "nltk.download('punkt_tab')\n",
    "from nltk.tokenize import word_tokenize\n",
    "\n",
    "# Sample text\n",
    "text = \"Natural Language Processing is transforming AI applications.\"\n",
    "\n",
    "# Tokenize the text\n",
    "tokens = word_tokenize(text)\n",
    "print(tokens)"
   ],
   "id": "initial_id",
   "outputs": [
    {
     "name": "stdout",
     "output_type": "stream",
     "text": [
      "['Natural', 'Language', 'Processing', 'is', 'transforming', 'AI', 'applications', '.']\n"
     ]
    },
    {
     "name": "stderr",
     "output_type": "stream",
     "text": [
      "[nltk_data] Downloading package punkt_tab to\n",
      "[nltk_data]     C:\\Users\\Spyqi\\AppData\\Roaming\\nltk_data...\n",
      "[nltk_data]   Package punkt_tab is already up-to-date!\n"
     ]
    }
   ],
   "execution_count": 7
  },
  {
   "metadata": {
    "ExecuteTime": {
     "end_time": "2025-07-07T21:38:05.747451Z",
     "start_time": "2025-07-07T21:38:05.736817Z"
    }
   },
   "cell_type": "code",
   "source": [
    "nltk.download('averaged_perceptron_tagger_eng')\n",
    "# Apply POS tagging\n",
    "tagged_tokens = nltk.pos_tag(tokens)\n",
    "print(tagged_tokens)"
   ],
   "id": "204c3a2e85890517",
   "outputs": [
    {
     "name": "stdout",
     "output_type": "stream",
     "text": [
      "[('Natural', 'JJ'), ('Language', 'NNP'), ('Processing', 'NNP'), ('is', 'VBZ'), ('transforming', 'VBG'), ('AI', 'NNP'), ('applications', 'NNS'), ('.', '.')]\n"
     ]
    },
    {
     "name": "stderr",
     "output_type": "stream",
     "text": [
      "[nltk_data] Downloading package averaged_perceptron_tagger_eng to\n",
      "[nltk_data]     C:\\Users\\Spyqi\\AppData\\Roaming\\nltk_data...\n",
      "[nltk_data]   Package averaged_perceptron_tagger_eng is already up-to-\n",
      "[nltk_data]       date!\n"
     ]
    }
   ],
   "execution_count": 8
  },
  {
   "metadata": {
    "ExecuteTime": {
     "end_time": "2025-07-07T21:38:06.787648Z",
     "start_time": "2025-07-07T21:38:06.354601Z"
    }
   },
   "cell_type": "code",
   "source": [
    "import spacy\n",
    "\n",
    "# Load the pretrained model for NER\n",
    "nlp = spacy.load(\"en_core_web_sm\")\n",
    "\n",
    "# Process the text with NER\n",
    "doc = nlp(text)\n",
    "\n",
    "# Extract entities\n",
    "for ent in doc.ents:\n",
    "    print(ent.text, ent.label_)"
   ],
   "id": "52e5a38bb77774ed",
   "outputs": [
    {
     "name": "stdout",
     "output_type": "stream",
     "text": [
      "Natural Language Processing ORG\n"
     ]
    }
   ],
   "execution_count": 9
  },
  {
   "metadata": {
    "ExecuteTime": {
     "end_time": "2025-07-07T21:38:55.395782Z",
     "start_time": "2025-07-07T21:38:55.057959Z"
    }
   },
   "cell_type": "code",
   "source": [
    "import torch\n",
    "from transformers import AutoTokenizer, AutoModelForSequenceClassification\n",
    "\n",
    "# 1. Load tokenizer & model\n",
    "model_name = \"distilbert-base-uncased-finetuned-sst-2-english\"\n",
    "tokenizer = AutoTokenizer.from_pretrained(model_name)\n",
    "model     = AutoModelForSequenceClassification.from_pretrained(model_name)\n",
    "\n",
    "# 2. Prepare your sentence\n",
    "text = \"Natural Language Processing is transforming AI applications.\"\n",
    "\n",
    "# 3. Tokenize to PyTorch tensors\n",
    "inputs = tokenizer(text, return_tensors=\"pt\")\n",
    "\n",
    "# 4. Run the model (no grad needed here)\n",
    "with torch.no_grad():\n",
    "    logits = model(**inputs).logits  # shape [1, num_labels]\n",
    "\n",
    "# 5. Turn logits into probabilities\n",
    "probs = torch.nn.functional.softmax(logits, dim=-1)[0]  # shape [num_labels]\n",
    "\n",
    "# 6. Map to labels\n",
    "results = {\n",
    "    model.config.id2label[i]: probs[i].item()\n",
    "    for i in range(probs.size(0))\n",
    "}\n",
    "\n",
    "print(results)"
   ],
   "id": "2746aa7ec429b67e",
   "outputs": [
    {
     "name": "stdout",
     "output_type": "stream",
     "text": [
      "{'NEGATIVE': 0.0010569615988060832, 'POSITIVE': 0.998943030834198}\n"
     ]
    }
   ],
   "execution_count": 11
  },
  {
   "metadata": {},
   "cell_type": "code",
   "outputs": [],
   "execution_count": null,
   "source": "#",
   "id": "8ff0ae1b322a6310"
  }
 ],
 "metadata": {
  "kernelspec": {
   "display_name": "Python 3",
   "language": "python",
   "name": "python3"
  },
  "language_info": {
   "codemirror_mode": {
    "name": "ipython",
    "version": 2
   },
   "file_extension": ".py",
   "mimetype": "text/x-python",
   "name": "python",
   "nbconvert_exporter": "python",
   "pygments_lexer": "ipython2",
   "version": "2.7.6"
  }
 },
 "nbformat": 4,
 "nbformat_minor": 5
}
