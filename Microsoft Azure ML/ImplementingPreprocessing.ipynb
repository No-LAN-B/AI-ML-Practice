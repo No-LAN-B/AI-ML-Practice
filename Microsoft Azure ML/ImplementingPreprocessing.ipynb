{
 "cells": [
  {
   "cell_type": "code",
   "id": "initial_id",
   "metadata": {
    "collapsed": true,
    "ExecuteTime": {
     "end_time": "2025-07-21T20:35:04.695566Z",
     "start_time": "2025-07-21T20:35:04.681972Z"
    }
   },
   "source": [
    "import pandas as pd\n",
    "import numpy as np\n",
    "from sklearn.preprocessing import StandardScaler\n",
    "from sklearn.model_selection import train_test_split\n",
    "from scipy import stats\n",
    "\n",
    "# Generate synthetic dataset for testing\n",
    "np.random.seed(42)\n",
    "n_samples = 100\n",
    "data = {\n",
    "    'income': np.random.normal(50000, 15000, n_samples),\n",
    "    'credit_score': np.random.normal(650, 50, n_samples),\n",
    "    'job_title': np.random.choice(['Engineer', 'Teacher', 'Doctor', 'Artist'], n_samples),\n",
    "    'target': np.random.choice([0, 1], n_samples)\n",
    "}\n",
    "\n",
    "# Introduce missing values and outliers for testing\n",
    "data['income'][np.random.randint(0, n_samples, 5)] = np.nan\n",
    "data['credit_score'][np.random.randint(0, n_samples, 3)] = np.nan\n",
    "data['income'][np.random.randint(0, n_samples, 2)] = 150000  # Outliers\n",
    "df = pd.DataFrame(data)"
   ],
   "outputs": [],
   "execution_count": 22
  },
  {
   "metadata": {
    "ExecuteTime": {
     "end_time": "2025-07-21T20:35:05.256104Z",
     "start_time": "2025-07-21T20:35:05.243531Z"
    }
   },
   "cell_type": "code",
   "source": [
    "# Handle missing values by filling with median\n",
    "for column in df.select_dtypes(include=['float64', 'int64']).columns:\n",
    "    df[column].fillna(df[column].median(), inplace=True)"
   ],
   "id": "36a73ebbc674ed8e",
   "outputs": [
    {
     "name": "stderr",
     "output_type": "stream",
     "text": [
      "C:\\Users\\Spyqi\\AppData\\Local\\Temp\\ipykernel_5124\\514516510.py:3: FutureWarning: A value is trying to be set on a copy of a DataFrame or Series through chained assignment using an inplace method.\n",
      "The behavior will change in pandas 3.0. This inplace method will never work because the intermediate object on which we are setting values always behaves as a copy.\n",
      "\n",
      "For example, when doing 'df[col].method(value, inplace=True)', try using 'df.method({col: value}, inplace=True)' or df[col] = df[col].method(value) instead, to perform the operation inplace on the original object.\n",
      "\n",
      "\n",
      "  df[column].fillna(df[column].median(), inplace=True)\n",
      "C:\\Users\\Spyqi\\AppData\\Local\\Temp\\ipykernel_5124\\514516510.py:3: FutureWarning: A value is trying to be set on a copy of a DataFrame or Series through chained assignment using an inplace method.\n",
      "The behavior will change in pandas 3.0. This inplace method will never work because the intermediate object on which we are setting values always behaves as a copy.\n",
      "\n",
      "For example, when doing 'df[col].method(value, inplace=True)', try using 'df.method({col: value}, inplace=True)' or df[col] = df[col].method(value) instead, to perform the operation inplace on the original object.\n",
      "\n",
      "\n",
      "  df[column].fillna(df[column].median(), inplace=True)\n"
     ]
    }
   ],
   "execution_count": 23
  },
  {
   "metadata": {
    "ExecuteTime": {
     "end_time": "2025-07-21T20:38:25.890030Z",
     "start_time": "2025-07-21T20:38:25.878988Z"
    }
   },
   "cell_type": "code",
   "source": [
    "# Remove duplicates\n",
    "df.drop_duplicates(inplace=True)\n",
    "\n",
    "\n",
    "# 1) Build a float array of your incomes\n",
    "income = df['income'].to_numpy(dtype=float)\n",
    "\n",
    "# 2) Allocate an output array full of NaNs\n",
    "log_out = np.full_like(income, np.nan, dtype=float)\n",
    "\n",
    "# 3) Compute log1p **only** where income > –1\n",
    "mask = (income > -1) & ~np.isnan(income)\n",
    "np.log1p(income, out=log_out, where=mask)\n",
    "\n",
    "# 4) Stick back into your DataFrame\n",
    "df['income_log'] = log_out"
   ],
   "id": "ee99a8273418da20",
   "outputs": [],
   "execution_count": 34
  },
  {
   "metadata": {
    "ExecuteTime": {
     "end_time": "2025-07-21T20:38:27.312028Z",
     "start_time": "2025-07-21T20:38:27.298707Z"
    }
   },
   "cell_type": "code",
   "source": [
    "scaler = StandardScaler()\n",
    "numeric_features = df.select_dtypes(include=['float64', 'int64']).columns\n",
    "df[numeric_features] = scaler.fit_transform(df[numeric_features])"
   ],
   "id": "20fd42256219deb1",
   "outputs": [],
   "execution_count": 35
  },
  {
   "metadata": {
    "ExecuteTime": {
     "end_time": "2025-07-21T20:38:27.467809Z",
     "start_time": "2025-07-21T20:38:27.453960Z"
    }
   },
   "cell_type": "code",
   "source": [
    "# One-hot encode categorical features\n",
    "df = pd.get_dummies(df, drop_first=True)"
   ],
   "id": "d211ea25d1ca078e",
   "outputs": [],
   "execution_count": 36
  },
  {
   "metadata": {
    "ExecuteTime": {
     "end_time": "2025-07-21T20:38:27.608640Z",
     "start_time": "2025-07-21T20:38:27.594141Z"
    }
   },
   "cell_type": "code",
   "source": [
    "# Detect and remove outliers using Z-score\n",
    "z_scores = np.abs(stats.zscore(df.select_dtypes(include=['float64', 'int64'])))\n",
    "df = df[(z_scores < 3).all(axis=1)]"
   ],
   "id": "564fe6f31e5a4baa",
   "outputs": [],
   "execution_count": 37
  },
  {
   "metadata": {
    "ExecuteTime": {
     "end_time": "2025-07-21T20:38:27.747817Z",
     "start_time": "2025-07-21T20:38:27.736412Z"
    }
   },
   "cell_type": "code",
   "source": [
    "# Apply log transformation to skewed data\n",
    "df['income_log'] = np.log1p(df['income'])"
   ],
   "id": "1e1613c445b0ca9b",
   "outputs": [],
   "execution_count": 38
  },
  {
   "metadata": {},
   "cell_type": "code",
   "source": [
    "X = df.drop('target', axis=1)\n",
    "y = df['target']\n",
    "X_train, X_test, y_train, y_test = train_test_split(X, y, test_size=0.2, random_state=42)"
   ],
   "id": "55645f7996808570",
   "outputs": [],
   "execution_count": null
  },
  {
   "metadata": {},
   "cell_type": "code",
   "outputs": [],
   "execution_count": null,
   "source": "",
   "id": "c65c1783f166ff60"
  }
 ],
 "metadata": {
  "kernelspec": {
   "display_name": "Python 3",
   "language": "python",
   "name": "python3"
  },
  "language_info": {
   "codemirror_mode": {
    "name": "ipython",
    "version": 2
   },
   "file_extension": ".py",
   "mimetype": "text/x-python",
   "name": "python",
   "nbconvert_exporter": "python",
   "pygments_lexer": "ipython2",
   "version": "2.7.6"
  }
 },
 "nbformat": 4,
 "nbformat_minor": 5
}
