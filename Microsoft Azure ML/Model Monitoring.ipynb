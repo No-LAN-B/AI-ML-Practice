{
 "cells": [
  {
   "cell_type": "code",
   "id": "initial_id",
   "metadata": {
    "collapsed": true,
    "ExecuteTime": {
     "end_time": "2025-08-08T02:31:28.283635Z",
     "start_time": "2025-08-08T02:31:27.643297Z"
    }
   },
   "source": [
    "import numpy as np\n",
    "import pandas as pd\n",
    "\n",
    "# Sample incoming data\n",
    "incoming_data = pd.DataFrame({'feature1': [1.4, 1.6, 1.8], 'feature2': [3.3, 3.9, 4.2]})\n",
    "\n",
    "# Training data metrics\n",
    "training_mean = {'feature1': 1.5, 'feature2': 3.7}\n",
    "training_std = {'feature1': 0.2, 'feature2': 0.3}\n",
    "\n",
    "# Calculate statistics for incoming data\n",
    "incoming_mean = incoming_data.mean()\n",
    "\n",
    "# Compare data to check for drift\n",
    "for feature in incoming_data.columns:\n",
    "    if abs(incoming_mean[feature] - training_mean[feature]) > training_std[feature] * 3:\n",
    "        print(f\"Alert: Significant data deviation detected in {feature}\")"
   ],
   "outputs": [],
   "execution_count": 3
  },
  {
   "metadata": {
    "ExecuteTime": {
     "end_time": "2025-08-08T02:31:50.936074Z",
     "start_time": "2025-08-08T02:31:50.924624Z"
    }
   },
   "cell_type": "code",
   "source": [
    "# Example Prometheus configuration to scrape model metrics\n",
    "#scrape_configs:\n",
    "  #- job_name: 'model_metrics'\n",
    "    #static_configs:\n",
    "      #- targets: ['localhost:9090']"
   ],
   "id": "8cc0bcecaa6f1c39",
   "outputs": [],
   "execution_count": 5
  },
  {
   "metadata": {
    "ExecuteTime": {
     "end_time": "2025-08-08T02:32:20.578529Z",
     "start_time": "2025-08-08T02:32:20.566475Z"
    }
   },
   "cell_type": "code",
   "source": [
    "#from azure.monitor.query import MetricsQueryClient\n",
    "#from azure.identity import DefaultAzureCredential\n",
    "\n",
    "#credential = DefaultAzureCredential()\n",
    "#client = MetricsQueryClient(credential)\n",
    "\n",
    "# Alert example\n",
    "alert_condition = {\n",
    "    \"threshold\": 85,\n",
    "    \"metric\": \"accuracy\",\n",
    "    \"operator\": \"LessThan\",\n",
    "    \"alert_action\": \"EmailNotification\"\n",
    "}\n",
    "\n",
    "print(\"Alert condition set for accuracy below 85%.\")"
   ],
   "id": "bbce605a0e07a39e",
   "outputs": [
    {
     "name": "stdout",
     "output_type": "stream",
     "text": [
      "Alert condition set for accuracy below 85%.\n"
     ]
    }
   ],
   "execution_count": 7
  },
  {
   "metadata": {
    "ExecuteTime": {
     "end_time": "2025-08-08T02:32:42.572523Z",
     "start_time": "2025-08-08T02:32:41.777536Z"
    }
   },
   "cell_type": "code",
   "source": [
    "from scipy.stats import ks_2samp\n",
    "\n",
    "# Training data and incoming data samples\n",
    "training_data_sample = np.random.normal(1.5, 0.2, 100)\n",
    "incoming_data_sample = incoming_data['feature1']\n",
    "\n",
    "# Perform KS test\n",
    "d_stat, p_value = ks_2samp(training_data_sample, incoming_data_sample)\n",
    "if p_value < 0.05:\n",
    "    print(\"Model drift detected for feature1\")"
   ],
   "id": "b719cb24cb955711",
   "outputs": [],
   "execution_count": 8
  },
  {
   "metadata": {
    "ExecuteTime": {
     "end_time": "2025-08-08T02:32:59.102604Z",
     "start_time": "2025-08-08T02:32:59.088018Z"
    }
   },
   "cell_type": "code",
   "source": [
    "import logging\n",
    "\n",
    "# Configure logging settings\n",
    "logging.basicConfig(filename='model_performance_logs.log', level=logging.INFO)\n",
    "\n",
    "# Log prediction request and response\n",
    "input_data = {'feature1': 1.6, 'feature2': 3.8}\n",
    "output_prediction = {'prediction': 0.9}\n",
    "\n",
    "logging.info(f\"Input: {input_data}, Output: {output_prediction}\")"
   ],
   "id": "7c3eb4c1df543845",
   "outputs": [],
   "execution_count": 9
  },
  {
   "metadata": {
    "ExecuteTime": {
     "end_time": "2025-08-08T02:33:07.618880Z",
     "start_time": "2025-08-08T02:33:07.604856Z"
    }
   },
   "cell_type": "code",
   "source": "# Use Azure Log Analytics for centralized logging and detailed diagnostics.",
   "id": "b4e80c47fb842bf",
   "outputs": [],
   "execution_count": 10
  },
  {
   "metadata": {},
   "cell_type": "code",
   "outputs": [],
   "execution_count": null,
   "source": "",
   "id": "cf21d711456124a7"
  }
 ],
 "metadata": {
  "kernelspec": {
   "display_name": "Python 3",
   "language": "python",
   "name": "python3"
  },
  "language_info": {
   "codemirror_mode": {
    "name": "ipython",
    "version": 2
   },
   "file_extension": ".py",
   "mimetype": "text/x-python",
   "name": "python",
   "nbconvert_exporter": "python",
   "pygments_lexer": "ipython2",
   "version": "2.7.6"
  }
 },
 "nbformat": 4,
 "nbformat_minor": 5
}
