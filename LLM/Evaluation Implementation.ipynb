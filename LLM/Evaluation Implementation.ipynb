{
 "cells": [
  {
   "metadata": {
    "ExecuteTime": {
     "end_time": "2025-06-30T17:50:15.136960Z",
     "start_time": "2025-06-30T17:50:15.123404Z"
    }
   },
   "cell_type": "code",
   "source": "# -- Accuracy -- #",
   "id": "c89c156a2e743c4",
   "outputs": [],
   "execution_count": 3
  },
  {
   "metadata": {},
   "cell_type": "code",
   "outputs": [
    {
     "name": "stdout",
     "output_type": "stream",
     "text": [
      "Accuracy: 0.8333333333333334\n"
     ]
    }
   ],
   "execution_count": 1,
   "source": [
    "from sklearn.metrics import accuracy_score\n",
    "\n",
    "# Actual labels and predicted labels from your model\n",
    "y_true = [1, 0, 1, 1, 0, 1]\n",
    "y_pred = [1, 0, 1, 0, 0, 1]\n",
    "\n",
    "# Calculate accuracy\n",
    "accuracy = accuracy_score(y_true, y_pred)\n",
    "print(f\"Accuracy: {accuracy}\")"
   ],
   "id": "initial_id"
  },
  {
   "metadata": {
    "ExecuteTime": {
     "end_time": "2025-06-30T17:50:26.614783Z",
     "start_time": "2025-06-30T17:50:26.601744Z"
    }
   },
   "cell_type": "code",
   "source": "# -- Precision -- #",
   "id": "ad4e06b9ada90da1",
   "outputs": [],
   "execution_count": 4
  },
  {
   "metadata": {
    "ExecuteTime": {
     "end_time": "2025-06-30T17:49:55.969981Z",
     "start_time": "2025-06-30T17:49:55.955847Z"
    }
   },
   "cell_type": "code",
   "source": [
    "from sklearn.metrics import precision_score\n",
    "\n",
    "# Calculate precision\n",
    "precision = precision_score(y_true, y_pred)\n",
    "print(f\"Precision: {precision}\")"
   ],
   "id": "afee82c56abbd31c",
   "outputs": [
    {
     "name": "stdout",
     "output_type": "stream",
     "text": [
      "Precision: 1.0\n"
     ]
    }
   ],
   "execution_count": 2
  },
  {
   "metadata": {
    "ExecuteTime": {
     "end_time": "2025-06-30T17:50:44.613212Z",
     "start_time": "2025-06-30T17:50:44.600153Z"
    }
   },
   "cell_type": "code",
   "source": "# -- Recall -- #",
   "id": "3ee920694547c2d4",
   "outputs": [],
   "execution_count": 5
  },
  {
   "metadata": {
    "ExecuteTime": {
     "end_time": "2025-06-30T17:50:46.074392Z",
     "start_time": "2025-06-30T17:50:46.060796Z"
    }
   },
   "cell_type": "code",
   "source": [
    "from sklearn.metrics import recall_score\n",
    "\n",
    "# Calculate recall\n",
    "recall = recall_score(y_true, y_pred)\n",
    "print(f\"Recall: {recall}\")"
   ],
   "id": "676a3fa4ca2841f3",
   "outputs": [
    {
     "name": "stdout",
     "output_type": "stream",
     "text": [
      "Recall: 0.75\n"
     ]
    }
   ],
   "execution_count": 6
  },
  {
   "metadata": {
    "ExecuteTime": {
     "end_time": "2025-06-30T17:50:56.179446Z",
     "start_time": "2025-06-30T17:50:56.174413Z"
    }
   },
   "cell_type": "code",
   "source": "# -- F1 Score -- #",
   "id": "4192286ae7e46bcd",
   "outputs": [],
   "execution_count": 7
  },
  {
   "metadata": {
    "ExecuteTime": {
     "end_time": "2025-06-30T17:51:03.431992Z",
     "start_time": "2025-06-30T17:51:03.418464Z"
    }
   },
   "cell_type": "code",
   "source": [
    "from sklearn.metrics import f1_score\n",
    "\n",
    "# Calculate F1 score\n",
    "f1 = f1_score(y_true, y_pred)\n",
    "print(f\"F1 Score: {f1}\")"
   ],
   "id": "16ba492f4ab4b349",
   "outputs": [
    {
     "name": "stdout",
     "output_type": "stream",
     "text": [
      "F1 Score: 0.8571428571428571\n"
     ]
    }
   ],
   "execution_count": 8
  },
  {
   "metadata": {
    "ExecuteTime": {
     "end_time": "2025-06-30T17:51:18.255304Z",
     "start_time": "2025-06-30T17:51:18.241733Z"
    }
   },
   "cell_type": "code",
   "source": "# -- Confusion Matrix -- #",
   "id": "1b78091a0d9cf3f7",
   "outputs": [],
   "execution_count": 9
  },
  {
   "metadata": {
    "ExecuteTime": {
     "end_time": "2025-06-30T17:51:23.496409Z",
     "start_time": "2025-06-30T17:51:23.482346Z"
    }
   },
   "cell_type": "code",
   "source": [
    "from sklearn.metrics import confusion_matrix\n",
    "\n",
    "# Generate confusion matrix\n",
    "matrix = confusion_matrix(y_true, y_pred)\n",
    "print(matrix)"
   ],
   "id": "bdaee6a7b45de0d3",
   "outputs": [
    {
     "name": "stdout",
     "output_type": "stream",
     "text": [
      "[[2 0]\n",
      " [1 3]]\n"
     ]
    }
   ],
   "execution_count": 10
  },
  {
   "metadata": {
    "ExecuteTime": {
     "end_time": "2025-06-30T17:51:53.200243Z",
     "start_time": "2025-06-30T17:51:53.187162Z"
    }
   },
   "cell_type": "code",
   "source": "# -- ROC-AUC -- #",
   "id": "fce8e28fe4e78d53",
   "outputs": [],
   "execution_count": 11
  },
  {
   "metadata": {
    "ExecuteTime": {
     "end_time": "2025-06-30T17:51:58.793741Z",
     "start_time": "2025-06-30T17:51:58.780214Z"
    }
   },
   "cell_type": "code",
   "source": [
    "from sklearn.metrics import roc_auc_score\n",
    "\n",
    "# Calculate ROC-AUC score\n",
    "roc_auc = roc_auc_score(y_true, y_pred)\n",
    "print(f\"ROC-AUC: {roc_auc}\")"
   ],
   "id": "8d954b2c7ab0da5b",
   "outputs": [
    {
     "name": "stdout",
     "output_type": "stream",
     "text": [
      "ROC-AUC: 0.875\n"
     ]
    }
   ],
   "execution_count": 12
  },
  {
   "metadata": {
    "ExecuteTime": {
     "end_time": "2025-06-30T17:52:07.935752Z",
     "start_time": "2025-06-30T17:52:07.922221Z"
    }
   },
   "cell_type": "code",
   "source": "# -- Loss Function -- #",
   "id": "9246ac216ffb67e3",
   "outputs": [],
   "execution_count": 13
  },
  {
   "metadata": {
    "ExecuteTime": {
     "end_time": "2025-06-30T17:52:16.947391Z",
     "start_time": "2025-06-30T17:52:14.666414Z"
    }
   },
   "cell_type": "code",
   "source": [
    "import torch\n",
    "import torch.nn as nn\n",
    "\n",
    "# Define the cross-entropy loss function\n",
    "# CrossEntropyLoss is used for classification tasks where the model outputs class probabilities.\n",
    "# It combines LogSoftmax and Negative Log Likelihood Loss into one function, making it efficient for such tasks.\n",
    "loss_fn = nn.CrossEntropyLoss()\n",
    "\n",
    "# Example prediction and actual class (as tensors)\n",
    "# Here, we create a tensor called 'output' representing the predicted scores (unnormalized) for two data points.\n",
    "# Each row corresponds to a data point, and the values represent the scores for each class.\n",
    "# Note that CrossEntropyLoss internally applies the softmax function to these scores to obtain probabilities.\n",
    "output = torch.tensor([[0.5, 1.5], [2.0, 0.5]])\n",
    "\n",
    "# 'target' is a tensor representing the actual classes for the two data points.\n",
    "# In this example, the first data point belongs to class 1, and the second data point belongs to class 0.\n",
    "# These class indices are zero-based, meaning 0 represents the first class, 1 represents the second, and so on.\n",
    "target = torch.tensor([1, 0])\n",
    "\n",
    "# Calculate loss\n",
    "# The CrossEntropyLoss function will take the predicted scores ('output') and the actual labels ('target')\n",
    "# to compute the loss value, which quantifies how well the model's predictions match the actual labels.\n",
    "# Lower loss values indicate better predictions, while higher values indicate more errors.\n",
    "loss = loss_fn(output, target)\n",
    "\n",
    "# Print the computed loss value\n",
    "# '.item()' is used to get the Python scalar value from the tensor containing the loss.\n",
    "print(f\"Loss: {loss.item()}\")"
   ],
   "id": "8448e1aed0fa3ec4",
   "outputs": [
    {
     "name": "stdout",
     "output_type": "stream",
     "text": [
      "Loss: 0.2573375105857849\n"
     ]
    }
   ],
   "execution_count": 14
  },
  {
   "metadata": {
    "ExecuteTime": {
     "end_time": "2025-06-30T17:52:28.960670Z",
     "start_time": "2025-06-30T17:52:28.947109Z"
    }
   },
   "cell_type": "code",
   "source": [
    "# Interpretation\n",
    "# A lower loss value indicates that the model’s predictions are closer to the actual values. Loss functions are particularly important during the training phase but are less interpretable during evaluation."
   ],
   "id": "b8a3c25c474ae9db",
   "outputs": [],
   "execution_count": 15
  },
  {
   "metadata": {},
   "cell_type": "code",
   "outputs": [],
   "execution_count": null,
   "source": "",
   "id": "2244bdf88550c33e"
  }
 ],
 "metadata": {
  "kernelspec": {
   "display_name": "Python 3",
   "language": "python",
   "name": "python3"
  },
  "language_info": {
   "codemirror_mode": {
    "name": "ipython",
    "version": 2
   },
   "file_extension": ".py",
   "mimetype": "text/x-python",
   "name": "python",
   "nbconvert_exporter": "python",
   "pygments_lexer": "ipython2",
   "version": "2.7.6"
  }
 },
 "nbformat": 4,
 "nbformat_minor": 5
}
