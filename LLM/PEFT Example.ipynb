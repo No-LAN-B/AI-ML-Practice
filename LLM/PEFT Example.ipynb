{
 "cells": [
  {
   "metadata": {
    "ExecuteTime": {
     "end_time": "2025-06-23T20:42:29.922376Z",
     "start_time": "2025-06-23T20:42:29.491736Z"
    }
   },
   "cell_type": "code",
   "source": [
    "import pandas as pd\n",
    "import re\n",
    "import transformers\n",
    "from transformers import AutoTokenizer\n",
    "import numpy as np\n",
    "\n",
    "# Load the tokenizer\n",
    "tokenizer = AutoTokenizer.from_pretrained(\"bert-base-uncased\")\n",
    "\n",
    "# Create a noisy dataset\n",
    "data_dict = {\n",
    "    \"text\": [\n",
    "        \"  The staff was very kind and attentive to my needs!!!  \",\n",
    "        \"The waiting time was too long, and the staff was rude. Visit us at http://hospitalreviews.com\",\n",
    "        \"The doctor answered all my questions...but the facility was outdated.   \",\n",
    "        \"The nurse was compassionate & made me feel comfortable!! :) \",\n",
    "        \"I had to wait over an hour before being seen.  Unacceptable service! #frustrated\",\n",
    "        \"The check-in process was smooth, but the doctor seemed rushed. Visit https://feedback.com\",\n",
    "        \"Everyone I interacted with was professional and helpful.  \"\n",
    "    ],\n",
    "    \"label\": [\"positive\", \"negative\", \"neutral\", \"positive\", \"negative\", \"neutral\", \"positive\"]\n",
    "}\n",
    "\n",
    "# Convert dataset to a DataFrame\n",
    "data = pd.DataFrame(data_dict)\n",
    "\n",
    "def compute_metrics(eval_pred):\n",
    "    logits, labels = eval_pred\n",
    "    preds = np.argmax(logits, axis=-1)\n",
    "    accuracy = (preds == labels).mean()\n",
    "    return {\"accuracy\": accuracy}\n",
    "\n",
    "# Clean the text\n",
    "def clean_text(text):\n",
    "    text = text.lower()  # Convert to lowercase\n",
    "    text = re.sub(r'http\\S+', '', text)  # Remove URLs\n",
    "    text = re.sub(r'[^\\w\\s]', '', text)  # Remove punctuation\n",
    "    text = re.sub(r'\\s+', ' ', text).strip()  # Remove extra whitespace\n",
    "    return text\n",
    "\n",
    "data[\"cleaned_text\"] = data[\"text\"].apply(clean_text)\n",
    "\n",
    "# Convert labels to integers\n",
    "label_map = {\"positive\": 0, \"neutral\": 1, \"negative\": 2}\n",
    "data[\"label\"] = data[\"label\"].map(label_map)\n",
    "\n",
    "# Tokenize the cleaned text\n",
    "data['tokenized'] = data['cleaned_text'].apply(lambda x: tokenizer.encode(x, add_special_tokens=True))\n",
    "\n",
    "# Pad or truncate to fixed length (e.g., 128 tokens)\n",
    "data['padded_tokenized'] = data['tokenized'].apply(\n",
    "    lambda x: x + [tokenizer.pad_token_id] * (128 - len(x)) if len(x) < 128 else x[:128]\n",
    ")\n",
    "\n",
    "# Preview cleaned and labeled data\n",
    "print(data[['cleaned_text', 'label', 'padded_tokenized']].head())"
   ],
   "id": "40af8aa5c7fa7c3",
   "outputs": [
    {
     "name": "stdout",
     "output_type": "stream",
     "text": [
      "                                        cleaned_text  label  \\\n",
      "0  the staff was very kind and attentive to my needs      0   \n",
      "1  the waiting time was too long and the staff wa...      2   \n",
      "2  the doctor answered all my questionsbut the fa...      1   \n",
      "3  the nurse was compassionate made me feel comfo...      0   \n",
      "4  i had to wait over an hour before being seen u...      2   \n",
      "\n",
      "                                    padded_tokenized  \n",
      "0  [101, 1996, 3095, 2001, 2200, 2785, 1998, 2012...  \n",
      "1  [101, 1996, 3403, 2051, 2001, 2205, 2146, 1998...  \n",
      "2  [101, 1996, 3460, 4660, 2035, 2026, 3980, 8569...  \n",
      "3  [101, 1996, 6821, 2001, 29353, 2081, 2033, 251...  \n",
      "4  [101, 1045, 2018, 2000, 3524, 2058, 2019, 3178...  \n"
     ]
    }
   ],
   "execution_count": 31
  },
  {
   "metadata": {
    "ExecuteTime": {
     "end_time": "2025-06-23T20:42:33.062660Z",
     "start_time": "2025-06-23T20:42:33.049111Z"
    }
   },
   "cell_type": "code",
   "source": [
    "from sklearn.model_selection import train_test_split\n",
    "\n",
    "# 1) split—but only stratify on the first split\n",
    "train_df, temp_df = train_test_split(\n",
    "    data,\n",
    "    test_size=0.3,\n",
    "    random_state=42,\n",
    "    stratify=data[\"label\"]\n",
    ")\n",
    "val_df, test_df = train_test_split(\n",
    "    temp_df,\n",
    "    test_size=0.5,\n",
    "    random_state=42,\n",
    ")\n"
   ],
   "id": "41c2e74a01aa09fc",
   "outputs": [],
   "execution_count": 32
  },
  {
   "metadata": {
    "ExecuteTime": {
     "end_time": "2025-06-23T20:42:33.732284Z",
     "start_time": "2025-06-23T20:42:33.627783Z"
    }
   },
   "cell_type": "code",
   "source": [
    "from datasets import Dataset\n",
    "\n",
    "\n",
    "# Convert DataFrame to Hugging Face Dataset\n",
    "train_dataset = Dataset.from_pandas(train_data)\n",
    "val_dataset = Dataset.from_pandas(val_data)\n",
    "test_dataset = Dataset.from_pandas(test_data)\n",
    "\n",
    "# Tokenization function\n",
    "def tokenize_function(examples):\n",
    "    return tokenizer(examples[\"cleaned_text\"], padding=\"max_length\", truncation=True, max_length=128)\n",
    "\n",
    "# Tokenize the dataset\n",
    "train_dataset = train_dataset.map(tokenize_function, batched=True)\n",
    "val_dataset = val_dataset.map(tokenize_function, batched=True)\n",
    "test_dataset = test_dataset.map(tokenize_function, batched=True)\n",
    "\n",
    "# Remove unnecessary columns\n",
    "train_dataset = train_dataset.remove_columns([\"text\", \"cleaned_text\"])\n",
    "val_dataset = val_dataset.remove_columns([\"text\", \"cleaned_text\"])\n",
    "test_dataset = test_dataset.remove_columns([\"text\", \"cleaned_text\"])\n",
    "\n",
    "# Convert labels to int if they are not already\n",
    "train_dataset = train_dataset.map(lambda x: {\"label\": int(x[\"label\"])})\n",
    "val_dataset = val_dataset.map(lambda x: {\"label\": int(x[\"label\"])})\n",
    "test_dataset = test_dataset.map(lambda x: {\"label\": int(x[\"label\"])})\n",
    "\n",
    "# Print a sample to confirm input_ids exist\n",
    "print(train_dataset[0])"
   ],
   "id": "7bb9dafa884397",
   "outputs": [
    {
     "data": {
      "text/plain": [
       "Map:   0%|          | 0/4 [00:00<?, ? examples/s]"
      ],
      "application/vnd.jupyter.widget-view+json": {
       "version_major": 2,
       "version_minor": 0,
       "model_id": "f5ce37e76b914a6eb8676759a35acc3c"
      }
     },
     "metadata": {},
     "output_type": "display_data"
    },
    {
     "data": {
      "text/plain": [
       "Map:   0%|          | 0/1 [00:00<?, ? examples/s]"
      ],
      "application/vnd.jupyter.widget-view+json": {
       "version_major": 2,
       "version_minor": 0,
       "model_id": "bf9aff6815034724974146f1591aee79"
      }
     },
     "metadata": {},
     "output_type": "display_data"
    },
    {
     "data": {
      "text/plain": [
       "Map:   0%|          | 0/2 [00:00<?, ? examples/s]"
      ],
      "application/vnd.jupyter.widget-view+json": {
       "version_major": 2,
       "version_minor": 0,
       "model_id": "5ad39dbf62fa427a90185212553e6f3f"
      }
     },
     "metadata": {},
     "output_type": "display_data"
    },
    {
     "data": {
      "text/plain": [
       "Map:   0%|          | 0/4 [00:00<?, ? examples/s]"
      ],
      "application/vnd.jupyter.widget-view+json": {
       "version_major": 2,
       "version_minor": 0,
       "model_id": "e01187164fb6458fab555f2d40ca987d"
      }
     },
     "metadata": {},
     "output_type": "display_data"
    },
    {
     "data": {
      "text/plain": [
       "Map:   0%|          | 0/1 [00:00<?, ? examples/s]"
      ],
      "application/vnd.jupyter.widget-view+json": {
       "version_major": 2,
       "version_minor": 0,
       "model_id": "a2d3c151211041ee966bb3cec6d0dc64"
      }
     },
     "metadata": {},
     "output_type": "display_data"
    },
    {
     "data": {
      "text/plain": [
       "Map:   0%|          | 0/2 [00:00<?, ? examples/s]"
      ],
      "application/vnd.jupyter.widget-view+json": {
       "version_major": 2,
       "version_minor": 0,
       "model_id": "794567e95aa34df8a6ddedec3a62814d"
      }
     },
     "metadata": {},
     "output_type": "display_data"
    },
    {
     "name": "stdout",
     "output_type": "stream",
     "text": [
      "{'label': 0, 'tokenized': [101, 1996, 6821, 2001, 29353, 2081, 2033, 2514, 6625, 102], 'padded_tokenized': [101, 1996, 6821, 2001, 29353, 2081, 2033, 2514, 6625, 102, 0, 0, 0, 0, 0, 0, 0, 0, 0, 0, 0, 0, 0, 0, 0, 0, 0, 0, 0, 0, 0, 0, 0, 0, 0, 0, 0, 0, 0, 0, 0, 0, 0, 0, 0, 0, 0, 0, 0, 0, 0, 0, 0, 0, 0, 0, 0, 0, 0, 0, 0, 0, 0, 0, 0, 0, 0, 0, 0, 0, 0, 0, 0, 0, 0, 0, 0, 0, 0, 0, 0, 0, 0, 0, 0, 0, 0, 0, 0, 0, 0, 0, 0, 0, 0, 0, 0, 0, 0, 0, 0, 0, 0, 0, 0, 0, 0, 0, 0, 0, 0, 0, 0, 0, 0, 0, 0, 0, 0, 0, 0, 0, 0, 0, 0, 0, 0, 0], '__index_level_0__': 3, 'input_ids': [101, 1996, 6821, 2001, 29353, 2081, 2033, 2514, 6625, 102, 0, 0, 0, 0, 0, 0, 0, 0, 0, 0, 0, 0, 0, 0, 0, 0, 0, 0, 0, 0, 0, 0, 0, 0, 0, 0, 0, 0, 0, 0, 0, 0, 0, 0, 0, 0, 0, 0, 0, 0, 0, 0, 0, 0, 0, 0, 0, 0, 0, 0, 0, 0, 0, 0, 0, 0, 0, 0, 0, 0, 0, 0, 0, 0, 0, 0, 0, 0, 0, 0, 0, 0, 0, 0, 0, 0, 0, 0, 0, 0, 0, 0, 0, 0, 0, 0, 0, 0, 0, 0, 0, 0, 0, 0, 0, 0, 0, 0, 0, 0, 0, 0, 0, 0, 0, 0, 0, 0, 0, 0, 0, 0, 0, 0, 0, 0, 0, 0], 'token_type_ids': [0, 0, 0, 0, 0, 0, 0, 0, 0, 0, 0, 0, 0, 0, 0, 0, 0, 0, 0, 0, 0, 0, 0, 0, 0, 0, 0, 0, 0, 0, 0, 0, 0, 0, 0, 0, 0, 0, 0, 0, 0, 0, 0, 0, 0, 0, 0, 0, 0, 0, 0, 0, 0, 0, 0, 0, 0, 0, 0, 0, 0, 0, 0, 0, 0, 0, 0, 0, 0, 0, 0, 0, 0, 0, 0, 0, 0, 0, 0, 0, 0, 0, 0, 0, 0, 0, 0, 0, 0, 0, 0, 0, 0, 0, 0, 0, 0, 0, 0, 0, 0, 0, 0, 0, 0, 0, 0, 0, 0, 0, 0, 0, 0, 0, 0, 0, 0, 0, 0, 0, 0, 0, 0, 0, 0, 0, 0, 0], 'attention_mask': [1, 1, 1, 1, 1, 1, 1, 1, 1, 1, 0, 0, 0, 0, 0, 0, 0, 0, 0, 0, 0, 0, 0, 0, 0, 0, 0, 0, 0, 0, 0, 0, 0, 0, 0, 0, 0, 0, 0, 0, 0, 0, 0, 0, 0, 0, 0, 0, 0, 0, 0, 0, 0, 0, 0, 0, 0, 0, 0, 0, 0, 0, 0, 0, 0, 0, 0, 0, 0, 0, 0, 0, 0, 0, 0, 0, 0, 0, 0, 0, 0, 0, 0, 0, 0, 0, 0, 0, 0, 0, 0, 0, 0, 0, 0, 0, 0, 0, 0, 0, 0, 0, 0, 0, 0, 0, 0, 0, 0, 0, 0, 0, 0, 0, 0, 0, 0, 0, 0, 0, 0, 0, 0, 0, 0, 0, 0, 0]}\n"
     ]
    }
   ],
   "execution_count": 33
  },
  {
   "metadata": {
    "ExecuteTime": {
     "end_time": "2025-06-23T20:42:34.912451Z",
     "start_time": "2025-06-23T20:42:34.636367Z"
    }
   },
   "cell_type": "code",
   "source": [
    "# Load pre-trained BERT model\n",
    "from transformers import BertForSequenceClassification\n",
    "\n",
    "model = BertForSequenceClassification.from_pretrained('bert-base-uncased', num_labels=3)\n",
    "\n",
    "# Step 1: Freeze all layers except the last one (classification head)\n",
    "for param in model.base_model.parameters():\n",
    "    param.requires_grad = False\n",
    "\n",
    "# If you'd like to fine-tune additional layers (e.g., the last 2 layers), you can unfreeze those layers as well\n",
    "for param in model.base_model.encoder.layer[-2:].parameters():\n",
    "    param.requires_grad = True"
   ],
   "id": "d52ac6fcd07e6a94",
   "outputs": [
    {
     "name": "stderr",
     "output_type": "stream",
     "text": [
      "Some weights of BertForSequenceClassification were not initialized from the model checkpoint at bert-base-uncased and are newly initialized: ['classifier.bias', 'classifier.weight']\n",
      "You should probably TRAIN this model on a down-stream task to be able to use it for predictions and inference.\n"
     ]
    }
   ],
   "execution_count": 34
  },
  {
   "metadata": {
    "ExecuteTime": {
     "end_time": "2025-06-23T20:44:57.039628Z",
     "start_time": "2025-06-23T20:44:53.113940Z"
    }
   },
   "cell_type": "code",
   "source": [
    "from transformers import Trainer, TrainingArguments\n",
    "\n",
    "# Step 1: Set training arguments for fine-tuning the model\n",
    "#training_args = TrainingArguments(\n",
    "    #output_dir='./results',             # Directory where results will be stored\n",
    "    #num_train_epochs=3,                 # Number of epochs (full passes through the dataset)\n",
    "    #per_device_train_batch_size=16,     # Batch size per GPU/CPU during training\n",
    "    #eval_strategy=\"epoch\",        # Evaluate the model at the end of each epoch\n",
    "    #dataloader_pin_memory=False\n",
    "#)\n",
    "# -- PEFT -- #\n",
    "# Example of adjusting learning rate for PEFT optimization\n",
    "training_args = TrainingArguments(\n",
    "    output_dir='./results',\n",
    "    learning_rate=5e-5,  # Experiment with different learning rates\n",
    "    num_train_epochs=5,\n",
    "    per_device_train_batch_size=16,\n",
    "    eval_strategy=\"epoch\",\n",
    "    dataloader_pin_memory=False\n",
    ")\n",
    "\n",
    "# Step 2: Fine-tune only the final classification head (since earlier layers were frozen)\n",
    "trainer = Trainer(\n",
    "    model=model, # Pre-trained BERT model with frozen layers\n",
    "    args=training_args, # Training arguments\n",
    "    train_dataset = train_dataset, # Training data for fine-tuning\n",
    "    eval_dataset= val_dataset, # Validation data to evaluate performance\n",
    "    compute_metrics=compute_metrics,\n",
    ")\n",
    "\n",
    "# Step 3: Train the model using PEFT (this performs PEFT because layers were frozen in Step 1)\n",
    "trainer.train()"
   ],
   "id": "f53dd7c18db79e81",
   "outputs": [
    {
     "data": {
      "text/plain": [
       "<IPython.core.display.HTML object>"
      ],
      "text/html": [
       "\n",
       "    <div>\n",
       "      \n",
       "      <progress value='5' max='5' style='width:300px; height:20px; vertical-align: middle;'></progress>\n",
       "      [5/5 00:03, Epoch 5/5]\n",
       "    </div>\n",
       "    <table border=\"1\" class=\"dataframe\">\n",
       "  <thead>\n",
       " <tr style=\"text-align: left;\">\n",
       "      <th>Epoch</th>\n",
       "      <th>Training Loss</th>\n",
       "      <th>Validation Loss</th>\n",
       "      <th>Accuracy</th>\n",
       "    </tr>\n",
       "  </thead>\n",
       "  <tbody>\n",
       "    <tr>\n",
       "      <td>1</td>\n",
       "      <td>No log</td>\n",
       "      <td>0.783913</td>\n",
       "      <td>1.000000</td>\n",
       "    </tr>\n",
       "    <tr>\n",
       "      <td>2</td>\n",
       "      <td>No log</td>\n",
       "      <td>0.820497</td>\n",
       "      <td>1.000000</td>\n",
       "    </tr>\n",
       "    <tr>\n",
       "      <td>3</td>\n",
       "      <td>No log</td>\n",
       "      <td>0.858277</td>\n",
       "      <td>1.000000</td>\n",
       "    </tr>\n",
       "    <tr>\n",
       "      <td>4</td>\n",
       "      <td>No log</td>\n",
       "      <td>0.898941</td>\n",
       "      <td>1.000000</td>\n",
       "    </tr>\n",
       "    <tr>\n",
       "      <td>5</td>\n",
       "      <td>No log</td>\n",
       "      <td>0.927345</td>\n",
       "      <td>0.000000</td>\n",
       "    </tr>\n",
       "  </tbody>\n",
       "</table><p>"
      ]
     },
     "metadata": {},
     "output_type": "display_data"
    },
    {
     "name": "stdout",
     "output_type": "stream",
     "text": [
      "Attempted to log scalar metric eval_loss:\n",
      "0.7839133143424988\n",
      "Attempted to log scalar metric eval_accuracy:\n",
      "1.0\n",
      "Attempted to log scalar metric eval_runtime:\n",
      "0.0804\n",
      "Attempted to log scalar metric eval_samples_per_second:\n",
      "12.433\n",
      "Attempted to log scalar metric eval_steps_per_second:\n",
      "12.433\n",
      "Attempted to log scalar metric epoch:\n",
      "1.0\n",
      "Attempted to log scalar metric eval_loss:\n",
      "0.8204969167709351\n",
      "Attempted to log scalar metric eval_accuracy:\n",
      "1.0\n",
      "Attempted to log scalar metric eval_runtime:\n",
      "0.0834\n",
      "Attempted to log scalar metric eval_samples_per_second:\n",
      "11.992\n",
      "Attempted to log scalar metric eval_steps_per_second:\n",
      "11.992\n",
      "Attempted to log scalar metric epoch:\n",
      "2.0\n",
      "Attempted to log scalar metric eval_loss:\n",
      "0.8582774996757507\n",
      "Attempted to log scalar metric eval_accuracy:\n",
      "1.0\n",
      "Attempted to log scalar metric eval_runtime:\n",
      "0.0779\n",
      "Attempted to log scalar metric eval_samples_per_second:\n",
      "12.841\n",
      "Attempted to log scalar metric eval_steps_per_second:\n",
      "12.841\n",
      "Attempted to log scalar metric epoch:\n",
      "3.0\n",
      "Attempted to log scalar metric eval_loss:\n",
      "0.8989409804344177\n",
      "Attempted to log scalar metric eval_accuracy:\n",
      "1.0\n",
      "Attempted to log scalar metric eval_runtime:\n",
      "0.0738\n",
      "Attempted to log scalar metric eval_samples_per_second:\n",
      "13.541\n",
      "Attempted to log scalar metric eval_steps_per_second:\n",
      "13.541\n",
      "Attempted to log scalar metric epoch:\n",
      "4.0\n",
      "Attempted to log scalar metric eval_loss:\n",
      "0.927344560623169\n",
      "Attempted to log scalar metric eval_accuracy:\n",
      "0.0\n",
      "Attempted to log scalar metric eval_runtime:\n",
      "0.0807\n",
      "Attempted to log scalar metric eval_samples_per_second:\n",
      "12.387\n",
      "Attempted to log scalar metric eval_steps_per_second:\n",
      "12.387\n",
      "Attempted to log scalar metric epoch:\n",
      "5.0\n",
      "Attempted to log scalar metric train_runtime:\n",
      "3.6238\n",
      "Attempted to log scalar metric train_samples_per_second:\n",
      "5.519\n",
      "Attempted to log scalar metric train_steps_per_second:\n",
      "1.38\n",
      "Attempted to log scalar metric total_flos:\n",
      "1315567088640.0\n",
      "Attempted to log scalar metric train_loss:\n",
      "0.7769490242004394\n",
      "Attempted to log scalar metric epoch:\n",
      "5.0\n"
     ]
    },
    {
     "data": {
      "text/plain": [
       "TrainOutput(global_step=5, training_loss=0.7769490242004394, metrics={'train_runtime': 3.6238, 'train_samples_per_second': 5.519, 'train_steps_per_second': 1.38, 'total_flos': 1315567088640.0, 'train_loss': 0.7769490242004394, 'epoch': 5.0})"
      ]
     },
     "execution_count": 38,
     "metadata": {},
     "output_type": "execute_result"
    }
   ],
   "execution_count": 38
  },
  {
   "metadata": {
    "ExecuteTime": {
     "end_time": "2025-06-23T20:45:04.498920Z",
     "start_time": "2025-06-23T20:45:04.346592Z"
    }
   },
   "cell_type": "code",
   "source": [
    "# Evaluate the model\n",
    "results = trainer.evaluate(eval_dataset=test_dataset)\n",
    "print(f\"Test Loss:     {results['eval_loss']:.4f}\")\n",
    "print(f\"Test Accuracy: {results['eval_accuracy']:.4f}\")"
   ],
   "id": "eb860be1a589851d",
   "outputs": [
    {
     "name": "stdout",
     "output_type": "stream",
     "text": [
      "Attempted to log scalar metric eval_loss:\n",
      "1.0348620414733887\n",
      "Attempted to log scalar metric eval_accuracy:\n",
      "0.5\n",
      "Attempted to log scalar metric eval_runtime:\n",
      "0.1388\n",
      "Attempted to log scalar metric eval_samples_per_second:\n",
      "14.411\n",
      "Attempted to log scalar metric eval_steps_per_second:\n",
      "7.206\n",
      "Attempted to log scalar metric epoch:\n",
      "5.0\n",
      "Test Loss:     1.0349\n",
      "Test Accuracy: 0.5000\n"
     ]
    }
   ],
   "execution_count": 40
  },
  {
   "metadata": {},
   "cell_type": "code",
   "outputs": [],
   "execution_count": null,
   "source": "",
   "id": "17adfc7022c4c33d"
  }
 ],
 "metadata": {
  "kernelspec": {
   "display_name": "Python 3",
   "language": "python",
   "name": "python3"
  },
  "language_info": {
   "codemirror_mode": {
    "name": "ipython",
    "version": 2
   },
   "file_extension": ".py",
   "mimetype": "text/x-python",
   "name": "python",
   "nbconvert_exporter": "python",
   "pygments_lexer": "ipython2",
   "version": "2.7.6"
  }
 },
 "nbformat": 4,
 "nbformat_minor": 5
}
