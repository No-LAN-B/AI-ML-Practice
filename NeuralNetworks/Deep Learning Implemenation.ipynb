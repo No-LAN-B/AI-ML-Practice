{
 "cells": [
  {
   "cell_type": "code",
   "id": "initial_id",
   "metadata": {
    "collapsed": true,
    "ExecuteTime": {
     "end_time": "2025-06-17T21:02:07.375095Z",
     "start_time": "2025-06-17T21:02:03.887891Z"
    }
   },
   "source": [
    "import tensorflow as tf\n",
    "from tensorflow.keras import Input, layers, models"
   ],
   "outputs": [],
   "execution_count": 1
  },
  {
   "metadata": {
    "ExecuteTime": {
     "end_time": "2025-06-17T21:06:06.077801Z",
     "start_time": "2025-06-17T21:06:06.062284Z"
    }
   },
   "cell_type": "code",
   "source": [
    "from sklearn.datasets import load_iris\n",
    "from sklearn.model_selection import train_test_split\n",
    "from sklearn.preprocessing import OneHotEncoder\n",
    "\n",
    "# Load dataset\n",
    "iris = load_iris()\n",
    "X = iris.data\n",
    "y = iris.target.reshape(-1, 1)\n",
    "\n",
    "# One-hot encode labels\n",
    "encoder = OneHotEncoder(sparse_output=False)\n",
    "y = encoder.fit_transform(y)\n",
    "\n",
    "# Split the dataset into training and testing sets\n",
    "X_train, X_test, y_train, y_test = train_test_split(X, y, test_size=0.2, random_state=42)"
   ],
   "id": "2a0a2dfa3ba21026",
   "outputs": [],
   "execution_count": 4
  },
  {
   "metadata": {
    "ExecuteTime": {
     "end_time": "2025-06-17T21:07:00.777409Z",
     "start_time": "2025-06-17T21:07:00.757759Z"
    }
   },
   "cell_type": "code",
   "source": [
    "# Build the FNN model\n",
    "model_fnn = models.Sequential([\n",
    "    layers.Dense(64, activation='relu', input_shape=(X_train.shape[1],)),\n",
    "    layers.Dense(32, activation='relu'),\n",
    "    layers.Dense(3, activation='softmax')  # 3 output classes for the Iris dataset\n",
    "])"
   ],
   "id": "40e185402297db99",
   "outputs": [],
   "execution_count": 6
  },
  {
   "metadata": {
    "ExecuteTime": {
     "end_time": "2025-06-17T21:07:19.966689Z",
     "start_time": "2025-06-17T21:07:17.433347Z"
    }
   },
   "cell_type": "code",
   "source": [
    "# Compile the model\n",
    "model_fnn.compile(optimizer='adam', loss='categorical_crossentropy', metrics=['accuracy'])\n",
    "\n",
    "# Train the model\n",
    "model_fnn.fit(X_train, y_train, epochs=20, batch_size=32, validation_data=(X_test, y_test))"
   ],
   "id": "19a71ec9bc91558c",
   "outputs": [
    {
     "name": "stdout",
     "output_type": "stream",
     "text": [
      "Epoch 1/20\n",
      "\u001B[1m4/4\u001B[0m \u001B[32m━━━━━━━━━━━━━━━━━━━━\u001B[0m\u001B[37m\u001B[0m \u001B[1m1s\u001B[0m 63ms/step - accuracy: 0.4204 - loss: 0.9866 - val_accuracy: 0.6333 - val_loss: 0.9213\n",
      "Epoch 2/20\n",
      "\u001B[1m4/4\u001B[0m \u001B[32m━━━━━━━━━━━━━━━━━━━━\u001B[0m\u001B[37m\u001B[0m \u001B[1m0s\u001B[0m 20ms/step - accuracy: 0.6181 - loss: 0.9420 - val_accuracy: 0.7000 - val_loss: 0.8708\n",
      "Epoch 3/20\n",
      "\u001B[1m4/4\u001B[0m \u001B[32m━━━━━━━━━━━━━━━━━━━━\u001B[0m\u001B[37m\u001B[0m \u001B[1m0s\u001B[0m 19ms/step - accuracy: 0.6475 - loss: 0.8758 - val_accuracy: 0.7000 - val_loss: 0.8347\n",
      "Epoch 4/20\n",
      "\u001B[1m4/4\u001B[0m \u001B[32m━━━━━━━━━━━━━━━━━━━━\u001B[0m\u001B[37m\u001B[0m \u001B[1m0s\u001B[0m 19ms/step - accuracy: 0.6923 - loss: 0.8313 - val_accuracy: 0.7667 - val_loss: 0.7992\n",
      "Epoch 5/20\n",
      "\u001B[1m4/4\u001B[0m \u001B[32m━━━━━━━━━━━━━━━━━━━━\u001B[0m\u001B[37m\u001B[0m \u001B[1m0s\u001B[0m 19ms/step - accuracy: 0.7052 - loss: 0.7935 - val_accuracy: 0.7000 - val_loss: 0.7552\n",
      "Epoch 6/20\n",
      "\u001B[1m4/4\u001B[0m \u001B[32m━━━━━━━━━━━━━━━━━━━━\u001B[0m\u001B[37m\u001B[0m \u001B[1m0s\u001B[0m 19ms/step - accuracy: 0.7067 - loss: 0.7495 - val_accuracy: 0.8000 - val_loss: 0.7197\n",
      "Epoch 7/20\n",
      "\u001B[1m4/4\u001B[0m \u001B[32m━━━━━━━━━━━━━━━━━━━━\u001B[0m\u001B[37m\u001B[0m \u001B[1m0s\u001B[0m 19ms/step - accuracy: 0.6846 - loss: 0.7156 - val_accuracy: 0.7333 - val_loss: 0.6818\n",
      "Epoch 8/20\n",
      "\u001B[1m4/4\u001B[0m \u001B[32m━━━━━━━━━━━━━━━━━━━━\u001B[0m\u001B[37m\u001B[0m \u001B[1m0s\u001B[0m 20ms/step - accuracy: 0.6835 - loss: 0.7025 - val_accuracy: 0.8667 - val_loss: 0.6499\n",
      "Epoch 9/20\n",
      "\u001B[1m4/4\u001B[0m \u001B[32m━━━━━━━━━━━━━━━━━━━━\u001B[0m\u001B[37m\u001B[0m \u001B[1m0s\u001B[0m 19ms/step - accuracy: 0.8288 - loss: 0.6523 - val_accuracy: 0.8667 - val_loss: 0.6149\n",
      "Epoch 10/20\n",
      "\u001B[1m4/4\u001B[0m \u001B[32m━━━━━━━━━━━━━━━━━━━━\u001B[0m\u001B[37m\u001B[0m \u001B[1m0s\u001B[0m 18ms/step - accuracy: 0.8015 - loss: 0.6138 - val_accuracy: 0.9667 - val_loss: 0.5940\n",
      "Epoch 11/20\n",
      "\u001B[1m4/4\u001B[0m \u001B[32m━━━━━━━━━━━━━━━━━━━━\u001B[0m\u001B[37m\u001B[0m \u001B[1m0s\u001B[0m 21ms/step - accuracy: 0.8844 - loss: 0.5986 - val_accuracy: 0.9000 - val_loss: 0.5629\n",
      "Epoch 12/20\n",
      "\u001B[1m4/4\u001B[0m \u001B[32m━━━━━━━━━━━━━━━━━━━━\u001B[0m\u001B[37m\u001B[0m \u001B[1m0s\u001B[0m 17ms/step - accuracy: 0.8410 - loss: 0.5518 - val_accuracy: 0.8000 - val_loss: 0.5354\n",
      "Epoch 13/20\n",
      "\u001B[1m4/4\u001B[0m \u001B[32m━━━━━━━━━━━━━━━━━━━━\u001B[0m\u001B[37m\u001B[0m \u001B[1m0s\u001B[0m 18ms/step - accuracy: 0.8344 - loss: 0.5322 - val_accuracy: 0.9000 - val_loss: 0.5174\n",
      "Epoch 14/20\n",
      "\u001B[1m4/4\u001B[0m \u001B[32m━━━━━━━━━━━━━━━━━━━━\u001B[0m\u001B[37m\u001B[0m \u001B[1m0s\u001B[0m 18ms/step - accuracy: 0.9219 - loss: 0.5330 - val_accuracy: 1.0000 - val_loss: 0.5081\n",
      "Epoch 15/20\n",
      "\u001B[1m4/4\u001B[0m \u001B[32m━━━━━━━━━━━━━━━━━━━━\u001B[0m\u001B[37m\u001B[0m \u001B[1m0s\u001B[0m 18ms/step - accuracy: 0.9508 - loss: 0.5020 - val_accuracy: 1.0000 - val_loss: 0.4859\n",
      "Epoch 16/20\n",
      "\u001B[1m4/4\u001B[0m \u001B[32m━━━━━━━━━━━━━━━━━━━━\u001B[0m\u001B[37m\u001B[0m \u001B[1m0s\u001B[0m 18ms/step - accuracy: 0.9390 - loss: 0.5027 - val_accuracy: 0.8667 - val_loss: 0.4658\n",
      "Epoch 17/20\n",
      "\u001B[1m4/4\u001B[0m \u001B[32m━━━━━━━━━━━━━━━━━━━━\u001B[0m\u001B[37m\u001B[0m \u001B[1m0s\u001B[0m 18ms/step - accuracy: 0.8521 - loss: 0.5096 - val_accuracy: 0.8667 - val_loss: 0.4509\n",
      "Epoch 18/20\n",
      "\u001B[1m4/4\u001B[0m \u001B[32m━━━━━━━━━━━━━━━━━━━━\u001B[0m\u001B[37m\u001B[0m \u001B[1m0s\u001B[0m 19ms/step - accuracy: 0.9096 - loss: 0.4383 - val_accuracy: 0.9000 - val_loss: 0.4377\n",
      "Epoch 19/20\n",
      "\u001B[1m4/4\u001B[0m \u001B[32m━━━━━━━━━━━━━━━━━━━━\u001B[0m\u001B[37m\u001B[0m \u001B[1m0s\u001B[0m 19ms/step - accuracy: 0.9319 - loss: 0.4365 - val_accuracy: 1.0000 - val_loss: 0.4317\n",
      "Epoch 20/20\n",
      "\u001B[1m4/4\u001B[0m \u001B[32m━━━━━━━━━━━━━━━━━━━━\u001B[0m\u001B[37m\u001B[0m \u001B[1m0s\u001B[0m 19ms/step - accuracy: 0.9437 - loss: 0.4280 - val_accuracy: 1.0000 - val_loss: 0.4193\n"
     ]
    },
    {
     "data": {
      "text/plain": [
       "<keras.src.callbacks.history.History at 0x180245d6b00>"
      ]
     },
     "execution_count": 7,
     "metadata": {},
     "output_type": "execute_result"
    }
   ],
   "execution_count": 7
  },
  {
   "metadata": {
    "ExecuteTime": {
     "end_time": "2025-06-17T21:07:44.737969Z",
     "start_time": "2025-06-17T21:07:42.790027Z"
    }
   },
   "cell_type": "code",
   "source": [
    "# Load CIFAR-10 dataset\n",
    "(train_images, train_labels), (test_images, test_labels) = tf.keras.datasets.cifar10.load_data()\n",
    "\n",
    "# Normalize pixel values to be between 0 and 1\n",
    "train_images, test_images = train_images / 255.0, test_images / 255.0"
   ],
   "id": "843c6e7cfc52f381",
   "outputs": [],
   "execution_count": 8
  },
  {
   "metadata": {
    "ExecuteTime": {
     "end_time": "2025-06-17T21:09:29.547985Z",
     "start_time": "2025-06-17T21:09:29.521210Z"
    }
   },
   "cell_type": "code",
   "source": [
    "# Build the CNN model\n",
    "model_cnn = models.Sequential([\n",
    "    layers.Conv2D(32, (3, 3), activation='relu', input_shape=(32, 32, 3)),\n",
    "    layers.MaxPooling2D((2, 2)),\n",
    "    layers.Conv2D(64, (3, 3), activation='relu'),\n",
    "    layers.MaxPooling2D((2, 2)),\n",
    "    layers.Flatten(),\n",
    "    layers.Dense(64, activation='relu'),\n",
    "    layers.Dense(10, activation='softmax')  # 10 output classes for CIFAR-10\n",
    "])"
   ],
   "id": "778ce7003574470d",
   "outputs": [],
   "execution_count": 10
  },
  {
   "metadata": {
    "ExecuteTime": {
     "end_time": "2025-06-17T21:10:42.742422Z",
     "start_time": "2025-06-17T21:09:45.502319Z"
    }
   },
   "cell_type": "code",
   "source": [
    "# Compile the model\n",
    "model_cnn.compile(optimizer='adam', loss='sparse_categorical_crossentropy', metrics=['accuracy'])\n",
    "\n",
    "# Train the model\n",
    "model_cnn.fit(train_images, train_labels, epochs=10, batch_size=64, validation_data=(test_images, test_labels))"
   ],
   "id": "b53f054e59071866",
   "outputs": [
    {
     "name": "stdout",
     "output_type": "stream",
     "text": [
      "Epoch 1/10\n",
      "\u001B[1m782/782\u001B[0m \u001B[32m━━━━━━━━━━━━━━━━━━━━\u001B[0m\u001B[37m\u001B[0m \u001B[1m6s\u001B[0m 7ms/step - accuracy: 0.3485 - loss: 1.7797 - val_accuracy: 0.5325 - val_loss: 1.3083\n",
      "Epoch 2/10\n",
      "\u001B[1m782/782\u001B[0m \u001B[32m━━━━━━━━━━━━━━━━━━━━\u001B[0m\u001B[37m\u001B[0m \u001B[1m5s\u001B[0m 7ms/step - accuracy: 0.5621 - loss: 1.2327 - val_accuracy: 0.6159 - val_loss: 1.0890\n",
      "Epoch 3/10\n",
      "\u001B[1m782/782\u001B[0m \u001B[32m━━━━━━━━━━━━━━━━━━━━\u001B[0m\u001B[37m\u001B[0m \u001B[1m6s\u001B[0m 7ms/step - accuracy: 0.6278 - loss: 1.0685 - val_accuracy: 0.6304 - val_loss: 1.0446\n",
      "Epoch 4/10\n",
      "\u001B[1m782/782\u001B[0m \u001B[32m━━━━━━━━━━━━━━━━━━━━\u001B[0m\u001B[37m\u001B[0m \u001B[1m6s\u001B[0m 7ms/step - accuracy: 0.6628 - loss: 0.9742 - val_accuracy: 0.6542 - val_loss: 1.0031\n",
      "Epoch 5/10\n",
      "\u001B[1m782/782\u001B[0m \u001B[32m━━━━━━━━━━━━━━━━━━━━\u001B[0m\u001B[37m\u001B[0m \u001B[1m6s\u001B[0m 7ms/step - accuracy: 0.6846 - loss: 0.9175 - val_accuracy: 0.6677 - val_loss: 0.9573\n",
      "Epoch 6/10\n",
      "\u001B[1m782/782\u001B[0m \u001B[32m━━━━━━━━━━━━━━━━━━━━\u001B[0m\u001B[37m\u001B[0m \u001B[1m6s\u001B[0m 7ms/step - accuracy: 0.7023 - loss: 0.8612 - val_accuracy: 0.6716 - val_loss: 0.9537\n",
      "Epoch 7/10\n",
      "\u001B[1m782/782\u001B[0m \u001B[32m━━━━━━━━━━━━━━━━━━━━\u001B[0m\u001B[37m\u001B[0m \u001B[1m6s\u001B[0m 7ms/step - accuracy: 0.7187 - loss: 0.8205 - val_accuracy: 0.6763 - val_loss: 0.9400\n",
      "Epoch 8/10\n",
      "\u001B[1m782/782\u001B[0m \u001B[32m━━━━━━━━━━━━━━━━━━━━\u001B[0m\u001B[37m\u001B[0m \u001B[1m6s\u001B[0m 7ms/step - accuracy: 0.7322 - loss: 0.7669 - val_accuracy: 0.6832 - val_loss: 0.9279\n",
      "Epoch 9/10\n",
      "\u001B[1m782/782\u001B[0m \u001B[32m━━━━━━━━━━━━━━━━━━━━\u001B[0m\u001B[37m\u001B[0m \u001B[1m5s\u001B[0m 7ms/step - accuracy: 0.7453 - loss: 0.7391 - val_accuracy: 0.6754 - val_loss: 0.9513\n",
      "Epoch 10/10\n",
      "\u001B[1m782/782\u001B[0m \u001B[32m━━━━━━━━━━━━━━━━━━━━\u001B[0m\u001B[37m\u001B[0m \u001B[1m6s\u001B[0m 7ms/step - accuracy: 0.7505 - loss: 0.7156 - val_accuracy: 0.6857 - val_loss: 0.9263\n"
     ]
    },
    {
     "data": {
      "text/plain": [
       "<keras.src.callbacks.history.History at 0x180263ed1e0>"
      ]
     },
     "execution_count": 11,
     "metadata": {},
     "output_type": "execute_result"
    }
   ],
   "execution_count": 11
  },
  {
   "metadata": {
    "ExecuteTime": {
     "end_time": "2025-06-17T21:11:21.836909Z",
     "start_time": "2025-06-17T21:11:21.808682Z"
    }
   },
   "cell_type": "code",
   "source": [
    "import numpy as np\n",
    "\n",
    "# Generate synthetic sine wave data\n",
    "t = np.linspace(0, 100, 10000)\n",
    "X = np.sin(t).reshape(-1, 1)\n",
    "\n",
    "# Prepare sequences\n",
    "def create_sequences(data, seq_length):\n",
    "    X_seq, y_seq = [], []\n",
    "    for i in range(len(data) - seq_length):\n",
    "        X_seq.append(data[i:i+seq_length])\n",
    "        y_seq.append(data[i+seq_length])\n",
    "    return np.array(X_seq), np.array(y_seq)\n",
    "\n",
    "seq_length = 100\n",
    "X_seq, y_seq = create_sequences(X, seq_length)\n",
    "\n",
    "# Split data into training and testing sets\n",
    "X_train, X_test, y_train, y_test = train_test_split(X_seq, y_seq, test_size=0.2, random_state=42)"
   ],
   "id": "99070b755b622051",
   "outputs": [],
   "execution_count": 12
  },
  {
   "metadata": {
    "ExecuteTime": {
     "end_time": "2025-06-17T21:11:33.183238Z",
     "start_time": "2025-06-17T21:11:33.154666Z"
    }
   },
   "cell_type": "code",
   "source": [
    "# Build the RNN model\n",
    "model_rnn = models.Sequential([\n",
    "    layers.SimpleRNN(128, input_shape=(seq_length, 1)),\n",
    "    layers.Dense(1)  # Output is a single value (next point in the sequence)\n",
    "])"
   ],
   "id": "f9120bda5cbcfd68",
   "outputs": [],
   "execution_count": 14
  },
  {
   "metadata": {
    "ExecuteTime": {
     "end_time": "2025-06-17T21:11:59.794130Z",
     "start_time": "2025-06-17T21:11:39.129016Z"
    }
   },
   "cell_type": "code",
   "source": [
    "# Compile the model\n",
    "model_rnn.compile(optimizer='adam', loss='mse')\n",
    "\n",
    "# Train the model\n",
    "model_rnn.fit(X_train, y_train, epochs=10, batch_size=32, validation_data=(X_test, y_test))"
   ],
   "id": "4b65916fbbcdb00d",
   "outputs": [
    {
     "name": "stdout",
     "output_type": "stream",
     "text": [
      "Epoch 1/10\n",
      "\u001B[1m248/248\u001B[0m \u001B[32m━━━━━━━━━━━━━━━━━━━━\u001B[0m\u001B[37m\u001B[0m \u001B[1m3s\u001B[0m 9ms/step - loss: 0.0333 - val_loss: 1.5161e-05\n",
      "Epoch 2/10\n",
      "\u001B[1m248/248\u001B[0m \u001B[32m━━━━━━━━━━━━━━━━━━━━\u001B[0m\u001B[37m\u001B[0m \u001B[1m2s\u001B[0m 8ms/step - loss: 1.2161e-05 - val_loss: 3.4066e-06\n",
      "Epoch 3/10\n",
      "\u001B[1m248/248\u001B[0m \u001B[32m━━━━━━━━━━━━━━━━━━━━\u001B[0m\u001B[37m\u001B[0m \u001B[1m2s\u001B[0m 8ms/step - loss: 4.7660e-06 - val_loss: 7.3961e-06\n",
      "Epoch 4/10\n",
      "\u001B[1m248/248\u001B[0m \u001B[32m━━━━━━━━━━━━━━━━━━━━\u001B[0m\u001B[37m\u001B[0m \u001B[1m2s\u001B[0m 8ms/step - loss: 2.2419e-06 - val_loss: 9.5943e-06\n",
      "Epoch 5/10\n",
      "\u001B[1m248/248\u001B[0m \u001B[32m━━━━━━━━━━━━━━━━━━━━\u001B[0m\u001B[37m\u001B[0m \u001B[1m2s\u001B[0m 8ms/step - loss: 7.0033e-06 - val_loss: 5.8438e-07\n",
      "Epoch 6/10\n",
      "\u001B[1m248/248\u001B[0m \u001B[32m━━━━━━━━━━━━━━━━━━━━\u001B[0m\u001B[37m\u001B[0m \u001B[1m2s\u001B[0m 8ms/step - loss: 5.7211e-06 - val_loss: 5.9624e-07\n",
      "Epoch 7/10\n",
      "\u001B[1m248/248\u001B[0m \u001B[32m━━━━━━━━━━━━━━━━━━━━\u001B[0m\u001B[37m\u001B[0m \u001B[1m2s\u001B[0m 8ms/step - loss: 1.0390e-06 - val_loss: 4.2250e-07\n",
      "Epoch 8/10\n",
      "\u001B[1m248/248\u001B[0m \u001B[32m━━━━━━━━━━━━━━━━━━━━\u001B[0m\u001B[37m\u001B[0m \u001B[1m2s\u001B[0m 8ms/step - loss: 1.5293e-06 - val_loss: 1.3257e-05\n",
      "Epoch 9/10\n",
      "\u001B[1m248/248\u001B[0m \u001B[32m━━━━━━━━━━━━━━━━━━━━\u001B[0m\u001B[37m\u001B[0m \u001B[1m2s\u001B[0m 8ms/step - loss: 5.7699e-06 - val_loss: 1.3088e-04\n",
      "Epoch 10/10\n",
      "\u001B[1m248/248\u001B[0m \u001B[32m━━━━━━━━━━━━━━━━━━━━\u001B[0m\u001B[37m\u001B[0m \u001B[1m2s\u001B[0m 8ms/step - loss: 3.5862e-05 - val_loss: 2.1370e-06\n"
     ]
    },
    {
     "data": {
      "text/plain": [
       "<keras.src.callbacks.history.History at 0x180263dfbb0>"
      ]
     },
     "execution_count": 15,
     "metadata": {},
     "output_type": "execute_result"
    }
   ],
   "execution_count": 15
  },
  {
   "metadata": {},
   "cell_type": "code",
   "outputs": [],
   "execution_count": null,
   "source": "",
   "id": "f908ed7103e3ae4b"
  }
 ],
 "metadata": {
  "kernelspec": {
   "display_name": "Python 3",
   "language": "python",
   "name": "python3"
  },
  "language_info": {
   "codemirror_mode": {
    "name": "ipython",
    "version": 2
   },
   "file_extension": ".py",
   "mimetype": "text/x-python",
   "name": "python",
   "nbconvert_exporter": "python",
   "pygments_lexer": "ipython2",
   "version": "2.7.6"
  }
 },
 "nbformat": 4,
 "nbformat_minor": 5
}
