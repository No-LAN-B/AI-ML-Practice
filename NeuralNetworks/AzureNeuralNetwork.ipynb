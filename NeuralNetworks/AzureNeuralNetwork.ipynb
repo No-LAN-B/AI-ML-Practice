{
 "cells": [
  {
   "cell_type": "code",
   "id": "initial_id",
   "metadata": {
    "collapsed": true,
    "ExecuteTime": {
     "end_time": "2025-06-17T04:05:03.304661Z",
     "start_time": "2025-06-17T04:04:58.729796Z"
    }
   },
   "source": [
    "from azureml.core import Workspace\n",
    "\n",
    "# Create or retrieve an existing Azure ML workspace\n",
    "ws = Workspace.get(name='WorkspaceOne',\n",
    "                      subscription_id='0f40667b-82a1-49fb-92ed-e02acd56126b',\n",
    "                      resource_group='nolan_bryson-rg',\n",
    "                      location='westus')\n",
    "\n",
    "\n",
    "# Write configuration to the workspace config file\n",
    "ws.write_config(path='.azureml')"
   ],
   "outputs": [
    {
     "name": "stderr",
     "output_type": "stream",
     "text": [
      "Warning: Falling back to use azure cli login credentials.\n",
      "If you run your code in unattended mode, i.e., where you can't give a user input, then we recommend to use ServicePrincipalAuthentication or MsiAuthentication.\n",
      "Please refer to aka.ms/aml-notebook-auth for different authentication mechanisms in azureml-sdk.\n"
     ]
    }
   ],
   "execution_count": 2
  },
  {
   "metadata": {
    "ExecuteTime": {
     "end_time": "2025-06-17T04:05:03.350514Z",
     "start_time": "2025-06-17T04:05:03.335887Z"
    }
   },
   "cell_type": "code",
   "source": [
    "import torch\n",
    "import torch.nn as nn\n",
    "import torch.optim as optim\n",
    "\n",
    "# Define a simple neural network with one hidden layer\n",
    "class SimpleNN(nn.Module):\n",
    "    def __init__(self):\n",
    "        super(SimpleNN, self).__init__()\n",
    "        self.fc1 = nn.Linear(784, 128)  # Input layer (784 input features)\n",
    "        self.fc2 = nn.Linear(128, 10)   # Output layer (10 classes)\n",
    "        self.relu = nn.ReLU()           # Activation function\n",
    "\n",
    "    def forward(self, x):\n",
    "        x = self.relu(self.fc1(x))  # Apply ReLU after the first layer\n",
    "        x = self.fc2(x)             # Output layer\n",
    "        return x\n",
    "\n",
    "# Initialize the neural network\n",
    "model = SimpleNN()\n",
    "\n",
    "# Define loss function and optimizer\n",
    "criterion = nn.CrossEntropyLoss()  # For classification tasks\n",
    "optimizer = optim.SGD(model.parameters(), lr=0.01)  # Stochastic Gradient Descent"
   ],
   "id": "7a9ec5e7a074d5a6",
   "outputs": [],
   "execution_count": 3
  },
  {
   "metadata": {
    "ExecuteTime": {
     "end_time": "2025-06-17T04:05:37.964304Z",
     "start_time": "2025-06-17T04:05:03.433148Z"
    }
   },
   "cell_type": "code",
   "source": [
    "from torchvision import datasets, transforms\n",
    "\n",
    "# Load MNIST dataset\n",
    "train_loader = torch.utils.data.DataLoader(\n",
    "    datasets.MNIST(root='data', train=True, download=True,\n",
    "                   transform=transforms.ToTensor()),\n",
    "    batch_size=32, shuffle=True)\n",
    "\n",
    "# Train the model\n",
    "num_epochs = 5\n",
    "for epoch in range(num_epochs):\n",
    "    running_loss = 0.0\n",
    "    for inputs, labels in train_loader:\n",
    "        optimizer.zero_grad()  # Reset gradients\n",
    "\n",
    "        # Forward pass\n",
    "        outputs = model(inputs.view(-1, 784))  # Flatten input\n",
    "        loss = criterion(outputs, labels)      # Compute loss\n",
    "\n",
    "        # Backward pass and optimization\n",
    "        loss.backward()\n",
    "        optimizer.step()\n",
    "\n",
    "        running_loss += loss.item()\n",
    "\n",
    "    print(f\"Epoch {epoch+1}, Loss: {running_loss/len(train_loader)}\")"
   ],
   "id": "b948663b36217a38",
   "outputs": [
    {
     "name": "stdout",
     "output_type": "stream",
     "text": [
      "Epoch 1, Loss: 0.8859738236665726\n",
      "Epoch 2, Loss: 0.3790428863366445\n",
      "Epoch 3, Loss: 0.3254845398545265\n",
      "Epoch 4, Loss: 0.2963150965730349\n",
      "Epoch 5, Loss: 0.2731281920870145\n"
     ]
    }
   ],
   "execution_count": 4
  },
  {
   "metadata": {
    "ExecuteTime": {
     "end_time": "2025-06-17T04:06:02.690202Z",
     "start_time": "2025-06-17T04:05:55.334279Z"
    }
   },
   "cell_type": "code",
   "source": [
    "from azureml.core import Model\n",
    "\n",
    "# Save the trained model\n",
    "torch.save(model.state_dict(), 'simple_nn.pth')\n",
    "\n",
    "# Register the model in Azure\n",
    "model = Model.register(workspace=ws, model_path='simple_nn.pth', model_name='simple_nn')\n",
    "\n",
    "# Deploying as a web service requires more steps such as creating a scoring script and environment."
   ],
   "id": "7e882b6e9d59901a",
   "outputs": [
    {
     "name": "stdout",
     "output_type": "stream",
     "text": [
      "Registering model simple_nn\n"
     ]
    }
   ],
   "execution_count": 5
  },
  {
   "metadata": {},
   "cell_type": "code",
   "outputs": [],
   "execution_count": null,
   "source": "",
   "id": "50fa62fba698dd56"
  }
 ],
 "metadata": {
  "kernelspec": {
   "display_name": "Python 3",
   "language": "python",
   "name": "python3"
  },
  "language_info": {
   "codemirror_mode": {
    "name": "ipython",
    "version": 2
   },
   "file_extension": ".py",
   "mimetype": "text/x-python",
   "name": "python",
   "nbconvert_exporter": "python",
   "pygments_lexer": "ipython2",
   "version": "2.7.6"
  }
 },
 "nbformat": 4,
 "nbformat_minor": 5
}
