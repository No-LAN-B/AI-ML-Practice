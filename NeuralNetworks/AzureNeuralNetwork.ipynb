{
 "cells": [
  {
   "cell_type": "code",
   "id": "initial_id",
   "metadata": {
    "collapsed": true,
    "ExecuteTime": {
     "end_time": "2025-06-16T05:27:33.814211Z",
     "start_time": "2025-06-16T05:27:33.802628Z"
    }
   },
   "source": [
    "from azureml.core import Workspace\n",
    "\n",
    "# Create or retrieve an existing Azure ML workspace\n",
    "ws = Workspace.get(name='myworkspace',\n",
    "                      subscription_id='your-subscription-id',\n",
    "                      resource_group='myresourcegroup',\n",
    "                      location='eastus')\n",
    "\n",
    "ws = Workspace.create(name='myworkspace', subscription_id='your-subscription-id', resource_group='myresourcegroup',location='eastus')\n",
    "\n",
    "# Write configuration to the workspace config file\n",
    "ws.write_config(path='.azureml')"
   ],
   "outputs": [
    {
     "ename": "IndentationError",
     "evalue": "unexpected indent (3752018881.py, line 5)",
     "output_type": "error",
     "traceback": [
      "\u001B[1;36m  Cell \u001B[1;32mIn[3], line 5\u001B[1;36m\u001B[0m\n\u001B[1;33m    subscription_id='your-subscription-id',\u001B[0m\n\u001B[1;37m    ^\u001B[0m\n\u001B[1;31mIndentationError\u001B[0m\u001B[1;31m:\u001B[0m unexpected indent\n"
     ]
    }
   ],
   "execution_count": 3
  },
  {
   "metadata": {},
   "cell_type": "code",
   "outputs": [],
   "execution_count": null,
   "source": "",
   "id": "7a9ec5e7a074d5a6"
  }
 ],
 "metadata": {
  "kernelspec": {
   "display_name": "Python 3",
   "language": "python",
   "name": "python3"
  },
  "language_info": {
   "codemirror_mode": {
    "name": "ipython",
    "version": 2
   },
   "file_extension": ".py",
   "mimetype": "text/x-python",
   "name": "python",
   "nbconvert_exporter": "python",
   "pygments_lexer": "ipython2",
   "version": "2.7.6"
  }
 },
 "nbformat": 4,
 "nbformat_minor": 5
}
